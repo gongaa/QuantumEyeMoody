{
 "cells": [
  {
   "attachments": {},
   "cell_type": "markdown",
   "metadata": {},
   "source": [
    "A1: Yes, Fourier QMCI will benefit from NISQ devices for several reasons [Ref 1].\n",
    "\n",
    "1. **It does not rely on quantum phase estimation (QPE).** QPE requires fault-tolerant quantum computing due to its need for a large number of qubits and quantum gates for high precision, as well as high-fidelity basic operations to avoid the fast accumulation of errors from multiple control-unitaries.\n",
    "\n",
    "2. **It simplifies the arithmetic on the quantum side compared to previous QMCI approaches.** By considering the function $f(x)$ on the finite support of $p(x)$ and defining a corresponding periodic function $\\texttt{f(x)}$, the Fourier series of the new periodic function $\\texttt{f(x)}$ can be computed classically. This not only avoids complex quantum arithmetic but also achieves better accuracy than linear approximation methods [Ref 2, Ref 3].\n",
    "\n",
    "3. **Fourier QMCI will be valuable during the transitional period from NISQ to Full-Scale Fault-Tolerant (FSFT) quantum computing.** The transition from NISQ to FSFT will not be that sharp. As qubit numbers increase, it becomes reasonable to consider quantum algorithms with explicitly-constructed circuits, such as Quantum Amplitude Estimation (QAE) used in Fourier QMCI, provided they can adequately manage noise. Eliminating the need for depth-consuming arithmetic operations is a crucial step in this direction.\n",
    "\n",
    "4. **Fourier QMCI still be useful beyond the NISQ era,** beacuse QAE provides quadratic speedup.\n",
    "\n",
    "A2: One metric to compare is the **mean square error (MSE) given $N$ samples**. Classical Monte Carlo integration has MSE of $\\Theta (N^{-1})$, Fourier QMCI is $\\Theta (N^{-2})$ [Ref 1, Ref 4]. However, other factors need to be considered as well. (1) The overhead of the query complexity. (2) The complexity per query, although the Fourier QMCI has less query complexity, per query it might be more difficult than the classical MC, because the state perparation $p(x)$ could be hard. (3) Classical post-processing of the quantum algorithm. The quantum MCI shifts the complicated arithmetic to the classical side, which involves the generation of the Fourier series. In [Ref 1], they assume $f(x)$ to be \"continuous in value and first derivative, and has second and third derivatives that are piecewise-continuous and bounded.\" This results in the cubic decay ($n^{-3}$) of the Fourier coefficients. However, for a general $f(x)$, the coefficients only decays linearly ($n^{-1}$). And to calculate each coefficient, the numerical integral with $m$ points in the interval will have a complexity of $O(m\\log(m))$, using the Clenshaw-Curtis method [Ref 5].\n",
    "\n",
    "[Ref 1] Herbert, S. (2022). Quantum Monte Carlo integration: the full advantage in minimal circuit depth. Quantum, 6, 823.  \n",
    "[Ref 2] Woerner, S., & Egger, D. J. (2019). Quantum risk analysis. npj Quantum Information, 5(1), 15.  \n",
    "[Ref 3] Stamatopoulos, N., Egger, D. J., Sun, Y., Zoufal, C., Iten, R., Shen, N., & Woerner, S. (2020). Option pricing using quantum computers. Quantum, 4, 291.  \n",
    "[Ref 4] Intallura, P., Korpas, G., Chakraborty, S., Kungurtsev, V., & Marecek, J. (2023). A Survey of Quantum Alternatives to Randomized Algorithms: Monte Carlo Integration and Beyond. arXiv preprint arXiv:2303.04945.\n",
    "[Ref 5] Clenshaw, C. W., & Curtis, A. R. (1960). A method for numerical integration on an automatic computer. Numerische Mathematik, 2, 197-205."
   ]
  }
 ],
 "metadata": {
  "language_info": {
   "name": "python"
  },
  "orig_nbformat": 4
 },
 "nbformat": 4,
 "nbformat_minor": 2
}
