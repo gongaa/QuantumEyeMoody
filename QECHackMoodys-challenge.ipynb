{
 "cells": [
  {
   "cell_type": "markdown",
   "id": "833b7d13",
   "metadata": {
    "slideshow": {
     "slide_type": "-"
    }
   },
   "source": [
    "<img src=\"files/QHack_poster.png\" >"
   ]
  },
  {
   "cell_type": "markdown",
   "id": "a24ec270",
   "metadata": {
    "slideshow": {
     "slide_type": "-"
    }
   },
   "source": [
    "<img src=\"files/MA_RGB_Blue.jpg\" width=\"200\">"
   ]
  },
  {
   "cell_type": "markdown",
   "id": "bcb0ebad",
   "metadata": {
    "slideshow": {
     "slide_type": "-"
    }
   },
   "source": [
    "<font color=blue>\n",
    "    \n",
    "# The path to Quantum in production in the Financial Industry \n",
    "# The use case of Quantum Monte Carlo Simulation \n",
    "\n",
    "</font>"
   ]
  },
  {
   "cell_type": "markdown",
   "id": "f661cb8c",
   "metadata": {
    "slideshow": {
     "slide_type": "-"
    }
   },
   "source": [
    "## Learning objectives of the challenge\n",
    "\n",
    "**MAIN LEARNING OBJECTIVES**\n",
    "1. Mapping a real problem to a quantum circuit. \n",
    "2. Programming quantum circuits. \n",
    "3. Optimizing quantum algorithms. \n",
    "\n",
    "**ABOUT THE INDUSTRY**\n",
    "\n",
    "<div class=\"alert alert-block alert-success\">\n",
    "    \n",
    "- What are the companies with potential use cases of quantum computing doing right now to prepare? \n",
    "    \n",
    "- Why do financial institutions need to invest in Quantum Computing?\n",
    "    \n",
    "- What innovation framework do companies use to decide what emerging technology should be investigated?\n",
    "    \n",
    "</div>\n",
    "\n",
    "\n",
    "\n",
    "**ABOUT THE PROBLEMS. SIZE. CLASSICAL METHODS. AND ~QUANTUM~ BUSINESS ADVANTAGE**\n",
    "<div class=\"alert alert-block alert-success\">\n",
    "\n",
    "* What is the size of the problems real companies need to solve in production and when does quantum become relevant?\n",
    "\n",
    "* What state of the art methods would quantum have to compete with?\n",
    "\n",
    "* What benchmarks should we do to decide if we substitute a classical method with a quantum one?\n",
    "\n",
    "* Should we talk about quantum advantage or business advantage?\n",
    "    \n",
    "</div>\n",
    "\n",
    "**ABOUT INTEGRATION AND \"QuantumOps\"**\n",
    "\n",
    "<div class=\"alert alert-block alert-success\">\n",
    "\n",
    "* What tools/ libraries need to be used in order to integrate quantum with other accelerators such as GPUs/ CPUs/ FPGAs etc?\n",
    "\n",
    "* How do you orchestrate all the resources needed to solve a production size problem?\n",
    "\n",
    "* How to manage the life cycle of a model in production?\n",
    "\n",
    "* How do we integrate a quantum computer, with the current infrastructure a company has?\n",
    "\n",
    "* How do we integrate a quantum solver with the current software products a company has?\n",
    "\n",
    "* What are all the layers that we have to take into consideration when using a quantum computer in production? </div>"
   ]
  },
  {
   "cell_type": "markdown",
   "id": "33e41541",
   "metadata": {
    "slideshow": {
     "slide_type": "-"
    }
   },
   "source": [
    "## The challenge"
   ]
  },
  {
   "cell_type": "markdown",
   "id": "71368cc4",
   "metadata": {
    "slideshow": {
     "slide_type": "-"
    }
   },
   "source": [
    "### Problem Statement \n",
    "\n",
    "Let $S_t$ be a stochastic process indexed by time $t$. Let the dynamics of $S_t$ be given by:\n",
    "\n",
    "**Eq. (1)** $$ dS_t = \\mu S_t dt + \\sigma S_t dW_t $$ \n",
    "\n",
    "where $S_0=50$, $\\mu= 0.1$ and $\\sigma= 0.2$ are constants, and $dW_{t}$ is change in a standard Gaussian process in $dt$ time and can be thought of as:\n",
    "\n",
    "$$dW_t=\\mathcal{N}(0,1)\\sqrt{dt}$$\n",
    "\n",
    "\n",
    "This kind of stochastic process is known as a geometric Brownian motion (GBM) (also known as exponential Brownian motion).\n",
    "\n",
    "\n",
    "### SECTION 1: The classical solution. Monte Carlo Simulation.\n",
    "\n",
    "Using the above write a simulation code to compute:\n",
    "\n",
    "* $\\mathbb{E}[S_T]$\n",
    "\n",
    "where T=10\n",
    "\n",
    "Some theory:\n",
    "\n",
    "* The expectation of a random variable can be estimated by averaging samples (let $X \\stackrel{}{\\sim} p(x)$):\n",
    "$$\\mathbb{E}[X]= \\int xp(x)dx \\approx \\frac{1}{N}\\sum_{j=1}^{N}X_j $$\n",
    "\n",
    "* When performed on a digital computer (classical or quantum), any continuous $p(x)$ must be truncated and discretised:\n",
    "$$\\mathbb{E}[X]= \\sum_x xp(x) \\approx \\frac{1}{N}\\sum_{j=1}^{N}X_j $$\n",
    "\n",
    "\n",
    "<div class=\"alert alert-block alert-warning\">\n",
    "<b>Hints:</b> \n",
    "    \n",
    "- Discretize the time between t=0 to t=T in 100 steps.\n",
    "- Use **Eq. (1)** to generate 10000 paths between t=0 to t=T (discretize the differential equation.)\n",
    "- Compute the expectation by averaging over the paths.\n",
    "- Another option is to use the analytical solution of the SDE, which is possible for this Stochastical Differential equation.\n",
    "    \n",
    "</div>\n"
   ]
  },
  {
   "cell_type": "markdown",
   "id": "22eb84dc",
   "metadata": {
    "slideshow": {
     "slide_type": "-"
    }
   },
   "source": [
    "This problem is usually solved using Monte Carlo simulation. Monte Carlo sampling is a set of techniques that randomly generate numerical quantities for the purpose of simulating a statistical distribution or computing a moment or other expectation thereof (e.g., mean, variance)."
   ]
  },
  {
   "cell_type": "markdown",
   "id": "252e80f5",
   "metadata": {},
   "source": [
    "Expect to see an exponential growth of $\\mathbb{E}[S_t]$\\\n",
    "$S_t=S_0\\ exp((\\mu-\\sigma^2/2)t+\\sigma W_t)$"
   ]
  },
  {
   "cell_type": "code",
   "execution_count": 48,
   "id": "b1da3f47",
   "metadata": {
    "slideshow": {
     "slide_type": "-"
    }
   },
   "outputs": [],
   "source": [
    "import numpy as np\n",
    "import matplotlib.pyplot as plt\n",
    "S0, mu, sigma = 50, 0.1, 0.2\n",
    "T, m, M = 10, 100, 10000\n",
    "dt = float(T) / m\n",
    "K = 100\n",
    "# M := number of paths\n",
    "# m := T/dt\n",
    "\n",
    "def exp_S_analytic():\n",
    "    St = np.exp(\n",
    "        (mu - sigma ** 2 / 2) * dt\n",
    "        + sigma * np.random.normal(0, np.sqrt(dt), size=(M,m)).T\n",
    "    )\n",
    "\n",
    "    St = np.vstack([np.ones(M), St])\n",
    "\n",
    "    St = S0 * St.cumprod(axis=0) # cumulative product\n",
    "    return St\n",
    "\n",
    "def exp_S():\n",
    "    S = np.zeros((m+1,M))\n",
    "    S[0] = S0\n",
    "    for i in range(m):\n",
    "        dS = mu * S[i,:] * dt + sigma * S[i,:] * np.random.normal(0, np.sqrt(dt), size=(M))\n",
    "        S[i+1,:] = S[i,:] + dS\n",
    "    return S"
   ]
  },
  {
   "cell_type": "code",
   "execution_count": 49,
   "id": "57264596",
   "metadata": {
    "slideshow": {
     "slide_type": "-"
    }
   },
   "outputs": [
    {
     "data": {
      "image/png": "[encoded data removed]",
      "text/plain": [
       "<Figure size 432x288 with 1 Axes>"
      ]
     },
     "metadata": {
      "needs_background": "light"
     },
     "output_type": "display_data"
    }
   ],
   "source": [
    "time = np.linspace(0,T,m+1)\n",
    "\n",
    "analytic_ans = exp_S_analytic()\n",
    "ans = exp_S()\n",
    "\n",
    "# Require numpy array that is the same shape as St\n",
    "plt.plot(time, analytic_ans.mean(axis=1), label=\"analytical\")\n",
    "plt.plot(time, ans.mean(axis=1), label=\"integrated\")\n",
    "plt.xlabel(\"$t$\")\n",
    "plt.ylabel(\"$\\mathbb{E}[S_t]$\")\n",
    "plt.legend(loc=\"upper left\")\n",
    "plt.show()"
   ]
  },
  {
   "cell_type": "code",
   "execution_count": 50,
   "id": "6cde7c96",
   "metadata": {},
   "outputs": [
    {
     "data": {
      "text/plain": [
       "(array([6.834e+03, 2.507e+03, 4.750e+02, 1.280e+02, 3.100e+01, 1.600e+01,\n",
       "        5.000e+00, 1.000e+00, 1.000e+00, 2.000e+00]),\n",
       " array([  13.58813242,  148.91459434,  284.24105626,  419.56751818,\n",
       "         554.8939801 ,  690.22044202,  825.54690393,  960.87336585,\n",
       "        1096.19982777, 1231.52628969, 1366.85275161]),\n",
       " <BarContainer object of 10 artists>)"
      ]
     },
     "execution_count": 50,
     "metadata": {},
     "output_type": "execute_result"
    },
    {
     "data": {
      "image/png": "[encoded data removed]",
      "text/plain": [
       "<Figure size 432x288 with 1 Axes>"
      ]
     },
     "metadata": {
      "needs_background": "light"
     },
     "output_type": "display_data"
    }
   ],
   "source": [
    "# empirical distribution of S_T at T=10\n",
    "counts, bins = np.histogram(ans[-1,:])\n",
    "plt.hist(bins[:-1], bins, weights=counts)"
   ]
  },
  {
   "cell_type": "markdown",
   "id": "ed528f97",
   "metadata": {},
   "source": [
    "# exact value of expectation is 49.6"
   ]
  },
  {
   "cell_type": "code",
   "execution_count": 51,
   "id": "b369c840",
   "metadata": {},
   "outputs": [
    {
     "name": "stdout",
     "output_type": "stream",
     "text": [
      "134.78954312246833\n",
      "49.63905341597889\n"
     ]
    }
   ],
   "source": [
    "print(ans[-1,:].mean()) # E[S_T]\n",
    "print(np.maximum(ans[-1,:] - K, np.zeros_like(ans[-1,:])).mean()) # E[max(S_T - K, 0)]"
   ]
  },
  {
   "cell_type": "markdown",
   "id": "38782505",
   "metadata": {
    "slideshow": {
     "slide_type": "-"
    }
   },
   "source": [
    "### SECTION 2: The Quantum solution. Quantum Monte Carlo Integration + QAE\n",
    "Now you are required to derive:\n",
    "* $\\mathbb{E}[max(S_T-100, 0)]$ \n",
    "\n",
    "with a quantum computer using the Quantum Amplitude Estimation Algorithm."
   ]
  },
  {
   "cell_type": "markdown",
   "id": "580d96fd",
   "metadata": {
    "slideshow": {
     "slide_type": "subslide"
    }
   },
   "source": [
    "Some more theory:\n",
    "\n",
    "* We may want to estimate the expectation when a function is applied to the samples:\n",
    "\n",
    "$$\\mathbb{E}[f(X)]= \\sum_x f(x)p(x) \\approx \\frac{1}{N}\\sum_{j=1}^{N}f(X_j) $$\n",
    "\n",
    "\n",
    "* Monte-Carlo Integration is a three step process:\n",
    "\n",
    "<div class=\"alert alert-block alert-info\">\n",
    "Prepare samples -> Apply a function -> average\n",
    "</div>\n",
    "\n",
    "\n",
    "* and Quantum Monte-Carlo Integration is essentially the same:\n",
    "\n",
    "<div class=\"alert alert-block alert-info\">\n",
    "Prepare a state -> Apply circuit encoding the function -> QAE algorithm\n",
    "</div>\n"
   ]
  },
  {
   "cell_type": "markdown",
   "id": "474fe466",
   "metadata": {
    "slideshow": {
     "slide_type": "slide"
    }
   },
   "source": [
    "#### BACKGROUND OF THE ALGORITHM\n",
    "\n",
    "Quantum Amplitude Estimation (QAE) __[[1]](https://arxiv.org/abs/quant-ph/0005055)__  is a fundamental quantum algorithm with the potential to achieve a quadratic speedup for many applications that are classically solved through Monte Carlo (MC) simulation. \n",
    "\n",
    "This algorithm could provide an advantage in some relevant applications in the financial sector. In fact, it has been shown how to apply QAE to the problems of option pricing __[[2]](https://arxiv.org/abs/1905.02666)__, risk analysis __[[3]](https://www.nature.com/articles/s41534-019-0130-6)__, __[[4]](https://arxiv.org/abs/2212.07125)__, __[[5]](https://www.mdpi.com/1099-4300/25/4/593)__ and also for generical tasks such as numerical integration __[[6]](https://arxiv.org/abs/1504.06987)__, among others.\n",
    "\n",
    "<div class=\"alert alert-block alert-info\">\n",
    "While the estimation error bound of classical MC simulation scales as O(1/√M), where M denotes the number of (classical) samples, QAE achieves a scaling of O(1/M) for M (quantum) samples, indicating the aforementioned quadratic speedup.\n",
    "\n",
    "</div>\n",
    "\n",
    "\n",
    "QAE was first proposed in 2000 by Brassard and others. However, the first version of the algorithm, that is, the canonical version, requires a very high number of qubits and circuit depth, which makes it impractical in today’s NISQ devices. QAE combines Quantum Phase Estimation (QPE) and Grover’s Algorithm.  Later studies have focused on how to optimize the QAE algorithm. The strategy has been to remove the QPE-dependency and use only Grover iterations. It has been empirically observed that including QPE in QAE does not have any advantages, it only increases the complexity. Moreover, the removal of the QPE-dependency has resulted in reducing the resource requirements of QAE, bringing closer the possibility of practical applications of QAE in the near-term.\n",
    "\n",
    "\n",
    "There are 3 main pain points to work on when solving a problem with this algorithm:\n",
    "1. Uploading the initial probability distribution.\n",
    "2. Computation = iterations of the algorithm (circuit depth).\n",
    "3. Measuring and Post processing.\n",
    "\n",
    "Each  of the parts have their own challenge, and in order to maintain the theoretical quadratic speedup, we have to efficiently solve each of the steps.\n",
    "\n",
    "There are different versions of QAE:\n",
    "\n",
    "* Canonical QAE __[[1]](https://arxiv.org/abs/quant-ph/0005055)__\n",
    "* Maximum Likelihood Amplitude Estimation MLAE __[[2]](https://arxiv.org/abs/1904.10246)__\n",
    "* QAE Simplified QAES __[[3]](https://arxiv.org/abs/1908.10846)__\n",
    "* Iterative QAE IQAE __[[4]](https://arxiv.org/abs/1912.05559)__\n",
    "* Variational QAE __[[5]](https://arxiv.org/abs/2109.03687)__\n",
    "\n",
    "and more.\n",
    "\n",
    "In order to do Quantum Monte-Carlo Integration one may choose among the different versions of QAE.\n",
    "\n",
    "In a recent paper, Steven Herbert proposes a method to do Quantum-monte Carlo Integration called Fourier QMCI __[[6]](https://arxiv.org/abs/2105.09100)__ that provides an optimal way to do the step of encoding the function into a circuit."
   ]
  },
  {
   "cell_type": "markdown",
   "id": "8231aec0",
   "metadata": {
    "slideshow": {
     "slide_type": "subslide"
    }
   },
   "source": [
    "For more information on Quantum proposals to enhance Monte Carlo methods, read __[A Survey of Quantum Alternatives to Randomized Algorithms: Monte Carlo Integration and Beyond](https://arxiv.org/abs/2303.04945)__"
   ]
  },
  {
   "cell_type": "markdown",
   "id": "d6fa3653",
   "metadata": {
    "slideshow": {
     "slide_type": "subslide"
    }
   },
   "source": [
    "You are required to work on the 3 steps mentioned above, and hand in the outputs defined below."
   ]
  },
  {
   "cell_type": "markdown",
   "id": "9611a522",
   "metadata": {
    "slideshow": {
     "slide_type": "slide"
    }
   },
   "source": [
    "# Expected Outputs\n",
    "\n",
    "## 1. Data uploading step. \n",
    "* Explore different techniques to efficiently upload the stochastic process. Choose and implement the technique you want and justify why. For simulation experiments, you may choose the number of samples in the probability distribution you want to consider, we recommend to start with 4. \n",
    "\n",
    "<font color=red>\n",
    "Optional. Advanced exercise. (We recommend to try this after solving the rest of the challenge). Try to encode a Cox-Ingersoll-Ross process into a quantum computer. What about a Heston model?</font> \n",
    "\n",
    "\n",
    "<div class=\"alert alert-block alert-warning\">\n",
    "<b>Hints:</b> \n",
    "    \n",
    "- Read __[The Problem with Grover-Rudolph State Preparation for Quantum Monte-Carlo](https://arxiv.org/abs/2101.02240)__ to understand why efficiently doing this step is important.\n",
    "    \n",
    "- __[qGAN](https://www.nature.com/articles/s41534-019-0223-2)__ have been proposed as an alternative promising way of efficiently uploading data.\n",
    "    \n",
    "- Read about stochastic processes uploading in __[Quantum-enhanced analysis of discrete stochastic processes](https://www.nature.com/articles/s41534-021-00459-2)__\n",
    "    \n",
    "</div>"
   ]
  },
  {
   "cell_type": "markdown",
   "id": "3b0f3a39",
   "metadata": {},
   "source": [
    "[Pricing European Call Options](https://qiskit.org/ecosystem/finance/tutorials/03_european_call_option_pricing.html) \\\n",
    "[Quantum Amplitude Estimation](https://qiskit.org/ecosystem/finance/tutorials/00_amplitude_estimation.html) \\\n",
    "[Option Pricing with qGANs](https://qiskit.org/ecosystem/finance/tutorials/10_qgan_option_pricing.html)"
   ]
  },
  {
   "cell_type": "code",
   "execution_count": 52,
   "id": "8975da69",
   "metadata": {
    "slideshow": {
     "slide_type": "fragment"
    }
   },
   "outputs": [
    {
     "name": "stdout",
     "output_type": "stream",
     "text": [
      "135.9140914229523 95.31684375952338\n"
     ]
    }
   ],
   "source": [
    "# Data Uploading Step\n",
    "from qiskit import QuantumCircuit\n",
    "from qiskit.algorithms import IterativeAmplitudeEstimation, EstimationProblem\n",
    "from qiskit.circuit.library import LinearAmplitudeFunction\n",
    "from qiskit_aer.primitives import Sampler\n",
    "from qiskit_finance.circuit.library import LogNormalDistribution\n",
    "\n",
    "num_uncertainty_qubits = 3\n",
    "\n",
    "mu_      = (mu - 0.5 * sigma**2) * T + np.log(S0)\n",
    "sigma_   = sigma * np.sqrt(T)\n",
    "mean     = np.exp(mu_ + sigma_**2 / 2)\n",
    "assert abs(mean - S0 * np.exp(mu * T)) < 1\n",
    "variance = (np.exp(sigma_**2) - 1) * np.exp(2 * mu_ + sigma_**2)\n",
    "stddev = np.sqrt(variance)\n",
    "print(mean, stddev)\n",
    "                 \n",
    "\n",
    "# lowest and highest value considered for the spot price; in between, an equidistant discretization is considered.\n",
    "low = np.maximum(0, mean - 3 * stddev)\n",
    "high = mean + 4 * stddev\n",
    "\n",
    "# construct A operator for QAE for the payoff function by\n",
    "# composing the uncertainty model and the objective\n",
    "uncertainty_model = LogNormalDistribution(\n",
    "    num_uncertainty_qubits, mu=mu_, sigma=sigma_**2, bounds=(low, high)\n",
    ")"
   ]
  },
  {
   "cell_type": "code",
   "execution_count": 54,
   "id": "27548927",
   "metadata": {},
   "outputs": [
    {
     "name": "stdout",
     "output_type": "stream",
     "text": [
      "[  0.          73.88306664 147.76613327 221.64919991 295.53226655\n",
      " 369.41533319 443.29839982 517.18146646] [0.         0.51357411 0.28639114 0.11661854 0.0480475  0.02094529\n",
      " 0.00969027 0.00473316]\n"
     ]
    },
    {
     "data": {
      "image/png": "[encoded data removed]",
      "text/plain": [
       "<Figure size 432x288 with 1 Axes>"
      ]
     },
     "metadata": {
      "needs_background": "light"
     },
     "output_type": "display_data"
    },
    {
     "data": {
      "text/plain": [
       "<Figure size 7200x5760 with 0 Axes>"
      ]
     },
     "metadata": {},
     "output_type": "display_data"
    }
   ],
   "source": [
    "# plot probability distribution\n",
    "dis_x = uncertainty_model.values # discretized x\n",
    "dis_y = uncertainty_model.probabilities # p(x) at these values\n",
    "print(dis_x, dis_y)\n",
    "plt.bar(dis_x, dis_y, width=40)\n",
    "plt.xticks(dis_x, size=15, rotation=90)\n",
    "plt.yticks(size=15)\n",
    "plt.grid()\n",
    "plt.xlabel(\"Spot Price at Maturity $S_T$ (\\$)\", size=15)\n",
    "plt.ylabel(\"Probability ($\\%$)\", size=15)\n",
    "plt.figure(figsize=(100,80))\n",
    "plt.show()"
   ]
  },
  {
   "cell_type": "markdown",
   "id": "c08ff04d",
   "metadata": {},
   "source": [
    "$\\newcommand{\\ra}{\\rangle}$\n",
    "$\\newcommand{\\vect}[1]{{\\mathbf{\\boldsymbol{{#1}}}}}$\n",
    "QMCI can be achieved by constructing a matrix $A=R(P\\otimes I)$ where\\\n",
    "$$P|0\\ra =|p\\ra = \\sum_{\\vect{x}\\in\\{0,1\\}^N} \\sqrt{p(\\vect{x})}|\\vect{x}\\rangle$$\n",
    "$$R = |\\vect{x}\\ra |0\\ra = |\\vect{x}\\ra (\\sqrt{1-f(\\vect{x})} |0\\ra + \\sqrt{f(\\vect{x})} |1\\ra)$$"
   ]
  },
  {
   "cell_type": "markdown",
   "id": "a3689455",
   "metadata": {},
   "source": [
    "Temporarily set $K=1$.\\\n",
    "Benchmark against the IBM $sin^2(x+\\pi/4)\\approx x+1/2$ method (Linear Amplitude Estimation)."
   ]
  },
  {
   "cell_type": "markdown",
   "id": "5c575962",
   "metadata": {
    "slideshow": {
     "slide_type": "slide"
    }
   },
   "source": [
    "\n",
    "## 2. QAE. \n",
    "* You are asked to implement Fourier QMCI __[[6]](https://arxiv.org/abs/2105.09100)__ and apply it to the function described in the problem statement $max(S_T-100, 0)$\n",
    "* What benefits does it have vs the other versions? \n",
    "\n",
    "\n",
    "<div class=\"alert alert-block alert-warning\">\n",
    "<b>Hints:</b> \n",
    "    \n",
    "- You do not need to derive the circuits of each version of QAE from scratch. Qiskit has some of the versions of QAE implemented as classes. You can explore the circuits using these classes. Check them out __[here](https://qiskit.org/documentation/apidoc/algorithms.html)__.\n",
    "- Qiskit can also help deriving the __[circuit depth](https://qiskit.org/documentation/stubs/qiskit.circuit.QuantumCircuit.depth.html)__.\n",
    "- Note that Fourier QMCI can make use of any of the versions of QAE.\n",
    "    \n",
    "</div>"
   ]
  },
  {
   "cell_type": "code",
   "execution_count": 55,
   "id": "557d4ee4",
   "metadata": {},
   "outputs": [
    {
     "name": "stdout",
     "output_type": "stream",
     "text": [
      "0.0 517.1814664610458\n",
      "-0.32474000000000003\n",
      "-0.32246678430546744\n"
     ]
    }
   ],
   "source": [
    "from qiskit.circuit.library import RYGate, CRYGate\n",
    "from qiskit import *\n",
    "from qiskit.providers.aer import QasmSimulator\n",
    "\n",
    "print(low, high)\n",
    "T = high - low\n",
    "N = num_uncertainty_qubits\n",
    "omega = 2 * np.pi / T\n",
    "Delta = T / (2**N - 1)\n",
    "num_shots = 10**5\n",
    "\n",
    "n = 5\n",
    "beta = 0\n",
    "\n",
    "def exp_of_tri(n, beta=0): # compute the expectation of cos(nwx) or sin(nwx), w is Omega\n",
    "    # n in the index in the Fourier Serier\n",
    "    # beta=0 for cosine, beta = pi/2 for sine\n",
    "    alpha = n * omega * low - beta \n",
    "    theta = n * omega * Delta\n",
    "    tri_circ = QuantumCircuit(QuantumRegister(num_uncertainty_qubits + 1), ClassicalRegister(1))\n",
    "    tri_circ.append(uncertainty_model, range(num_uncertainty_qubits))\n",
    "    tri_circ.append(RYGate(alpha), [N])\n",
    "#     for i in range(1, N+1):\n",
    "#         tri_circ.append(CRYGate(theta * (2**i)), [N-i,N]) # Prob encoding was in the reversed order!\n",
    "    for i in range(0, N):\n",
    "        tri_circ.append(CRYGate(theta * (2**i)), [i, N])\n",
    "    tri_circ.measure(N, 0)\n",
    "    \n",
    "    backend = Aer.get_backend(\"qasm_simulator\")\n",
    "    job = execute(tri_circ, backend, shots=num_shots)\n",
    "    result = job.result()\n",
    "    counts = result.get_counts()\n",
    "#     print(counts)\n",
    "    if '1' not in counts.keys():\n",
    "        counts['1'] = 0\n",
    "#     tri_circ.draw()\n",
    "    return 1 - 2 * float(counts['1']) / num_shots    # the probabiliy of state |1>\n",
    "\n",
    "exp_cos = exp_of_tri(n, np.pi/2)\n",
    "print(exp_cos)\n",
    "\n",
    "def exp_of_cos_exact(n):\n",
    "    cosx = [np.cos(n * omega * x) for x in dis_x]\n",
    "    return (cosx * dis_y).sum()\n",
    "\n",
    "def exp_of_sin_exact(n):\n",
    "    sinx = [np.sin(n * omega * x) for x in dis_x]\n",
    "    return (sinx * dis_y).sum()\n",
    "\n",
    "print(exp_of_sin_exact(n))"
   ]
  },
  {
   "cell_type": "markdown",
   "id": "b9051243",
   "metadata": {},
   "source": [
    "# QSAM measurements match the exact results!"
   ]
  },
  {
   "cell_type": "code",
   "execution_count": 56,
   "id": "5541c972",
   "metadata": {},
   "outputs": [
    {
     "data": {
      "text/html": [
       "<pre style=\"word-wrap: normal;white-space: pre;background: #fff0;line-height: 1.1;font-family: &quot;Courier New&quot;,Courier,monospace\">         ┌───────┐                                           \n",
       "q5406_0: ┤0      ├──────■────────────────────────────────────\n",
       "         │       │      │                                    \n",
       "q5406_1: ┤1 P(X) ├──────┼────────────■───────────────────────\n",
       "         │       │      │            │                       \n",
       "q5406_2: ┤2      ├──────┼────────────┼────────────■──────────\n",
       "         ├───────┤┌─────┴─────┐┌─────┴─────┐┌─────┴──────┐┌─┐\n",
       "q5406_3: ┤ Ry(0) ├┤ Ry(10π/7) ├┤ Ry(8.976) ├┤ Ry(17.952) ├┤M├\n",
       "         └───────┘└───────────┘└───────────┘└────────────┘└╥┘\n",
       " c264: 1/══════════════════════════════════════════════════╩═\n",
       "                                                           0 </pre>"
      ],
      "text/plain": [
       "         ┌───────┐                                           \n",
       "q5406_0: ┤0      ├──────■────────────────────────────────────\n",
       "         │       │      │                                    \n",
       "q5406_1: ┤1 P(X) ├──────┼────────────■───────────────────────\n",
       "         │       │      │            │                       \n",
       "q5406_2: ┤2      ├──────┼────────────┼────────────■──────────\n",
       "         ├───────┤┌─────┴─────┐┌─────┴─────┐┌─────┴──────┐┌─┐\n",
       "q5406_3: ┤ Ry(0) ├┤ Ry(10π/7) ├┤ Ry(8.976) ├┤ Ry(17.952) ├┤M├\n",
       "         └───────┘└───────────┘└───────────┘└────────────┘└╥┘\n",
       " c264: 1/══════════════════════════════════════════════════╩═\n",
       "                                                           0 "
      ]
     },
     "execution_count": 56,
     "metadata": {},
     "output_type": "execute_result"
    }
   ],
   "source": [
    "alpha = n * omega * low - beta \n",
    "theta = n * omega * Delta\n",
    "tri_circ = QuantumCircuit(QuantumRegister(num_uncertainty_qubits + 1), ClassicalRegister(1))\n",
    "tri_circ.append(uncertainty_model, range(num_uncertainty_qubits))\n",
    "tri_circ.append(RYGate(alpha), [N])\n",
    "for i in range(0, N):\n",
    "    tri_circ.append(CRYGate(theta * (2**i)), [i,N])\n",
    "tri_circ.measure(N, 0)\n",
    "tri_circ.draw()"
   ]
  },
  {
   "cell_type": "code",
   "execution_count": 57,
   "id": "0e0596b3",
   "metadata": {},
   "outputs": [],
   "source": [
    "from scipy.integrate import quad\n",
    "\n",
    "class Fourier():\n",
    "\n",
    "    def __init__(self, x_low, x_high, n_max, strike_price=100.0):\n",
    "        '''\n",
    "        [x_low, strike_price, x_high)\n",
    "        '''\n",
    "        assert isinstance(x_low, float)\n",
    "        assert isinstance(x_high, float)\n",
    "        assert isinstance(n_max, int)\n",
    "        assert isinstance(strike_price, float)\n",
    "        assert strike_price > 0\n",
    "        assert n_max > 0\n",
    "        assert x_low < strike_price\n",
    "        assert x_high > strike_price\n",
    "        self.x_low = x_low\n",
    "        self.x_high = x_high\n",
    "        self.n_max = n_max\n",
    "        self.strike_price = strike_price\n",
    "        self.T = x_high-x_low\n",
    "        self.omega = 2*np.pi/(x_high-x_low)\n",
    "\n",
    "    def f(self, x):\n",
    "        if isinstance(x, float):\n",
    "            assert self.x_low <= x\n",
    "            assert x<=self.x_high\n",
    "            if x==self.x_high:\n",
    "                x = self.x_low\n",
    "            return max(0, x-self.strike_price)\n",
    "        elif isinstance(x, np.ndarray):\n",
    "            assert np.all(self.x_low<=x)\n",
    "            assert np.all(x<=self.x_high)\n",
    "            x[x==self.x_high] = self.x_low\n",
    "            return np.clip(a=x-self.strike_price, a_min=0, a_max=None)\n",
    "        else:\n",
    "            raise ValueError('x should be float or np.ndarray!')\n",
    "    \n",
    "\n",
    "    def f_periodic(self, x):\n",
    "        x_shifted = (x-self.x_low)%self.T + self.x_low\n",
    "        return self.f(x_shifted)\n",
    "    \n",
    "    def create_coef(self):\n",
    "        self.c = 1.0/self.T*quad(func=self.f, a=self.x_low, b=self.x_high)[0]\n",
    "        self.a = np.zeros(self.n_max, dtype=float)\n",
    "        self.b = np.zeros(self.n_max, dtype=float)\n",
    "        pre_factor = 2.0/self.T\n",
    "        for n in range(self.n_max):\n",
    "            nw = (n+1)*self.omega\n",
    "            self.a[n] = quad(\n",
    "                func=self.f, a=self.x_low, b=self.x_high, weight='cos', wvar=nw\n",
    "            )[0]*pre_factor\n",
    "            self.b[n] = quad(\n",
    "                func=self.f, a=self.x_low, b=self.x_high, weight='sin', wvar=nw\n",
    "            )[0]*pre_factor\n",
    "        \n",
    "    def f_series(self, x):\n",
    "        if isinstance(x, float):\n",
    "            ans = self.c\n",
    "        elif isinstance(x, np.ndarray):\n",
    "            ans = self.c*np.ones_like(x, dtype=float)\n",
    "        else:\n",
    "            raise ValueError('x should be float or np.ndarray!')\n",
    "        for n in range(self.n_max):\n",
    "            nw = (n+1)*self.omega\n",
    "            ans += self.a[n]*np.cos(nw*x)\n",
    "            ans += self.b[n]*np.sin(nw*x)\n",
    "        return ans\n"
   ]
  },
  {
   "cell_type": "code",
   "execution_count": 58,
   "id": "25d6bc9c",
   "metadata": {},
   "outputs": [
    {
     "name": "stdout",
     "output_type": "stream",
     "text": [
      "nmax=1.000000e+00, rerr=4.437871e-01 c=168.26\n",
      "nmax=1.000000e+01, rerr=3.967956e-01 c=168.26\n",
      "nmax=1.000000e+02, rerr=3.862538e-01 c=168.26\n",
      "nmax=1.000000e+03, rerr=2.416616e-01 c=168.26\n",
      "nmax=1.000000e+04, rerr=3.870304e-02 c=168.26\n"
     ]
    },
    {
     "data": {
      "text/plain": [
       "<matplotlib.legend.Legend at 0x7f85dd845ee0>"
      ]
     },
     "execution_count": 58,
     "metadata": {},
     "output_type": "execute_result"
    },
    {
     "data": {
      "image/png": "[encoded data removed]",
      "text/plain": [
       "<Figure size 432x288 with 1 Axes>"
      ]
     },
     "metadata": {
      "needs_background": "light"
     },
     "output_type": "display_data"
    }
   ],
   "source": [
    "NMAX = (1, 10, 100, 1000, 10000)\n",
    "x = np.linspace(-100, 1000, num=500)\n",
    "colors = ('r', 'g', 'b', 'y', 'k')\n",
    "\n",
    "fig, ax = plt.subplots()\n",
    "mycoef = Fourier(x_low=low, x_high=high, n_max=1, strike_price=float(K))\n",
    "y_ref = mycoef.f_periodic(x)\n",
    "ax.plot(x, y_ref)\n",
    "for (i, nm) in enumerate(NMAX):\n",
    "    mycoef = Fourier(x_low=low, x_high=high, n_max=nm, strike_price=float(K))\n",
    "    mycoef.create_coef()\n",
    "    y_this = mycoef.f_series(x)\n",
    "    rerr = np.max(np.abs(y_ref-y_this))/high\n",
    "    print('nmax={0:e}, rerr={1:e} c={2:.2f}'.format(nm, rerr, mycoef.c))\n",
    "    ax.plot(\n",
    "        x, y_this, color=colors[i], label='nmax={0:.0e}, rerr={1:.2e}'.format(nm,rerr)\n",
    "    )\n",
    "fig.legend()"
   ]
  },
  {
   "cell_type": "code",
   "execution_count": 61,
   "id": "885c80f5",
   "metadata": {},
   "outputs": [
    {
     "name": "stdout",
     "output_type": "stream",
     "text": [
      "42.2946379402093\n",
      "41.68534921310919\n"
     ]
    }
   ],
   "source": [
    "n_max = 10\n",
    "mycoef = Fourier(x_low=low, x_high=high, n_max=n_max, strike_price=float(K))\n",
    "mycoef.create_coef()\n",
    "# calculating the expectation of max(S_T-K, 0)\n",
    "cos_exps = [exp_of_tri(n+1, beta=0) for n in range(n_max)]\n",
    "cos_exps_exact = [exp_of_cos_exact(n+1) for n in range(n_max)]\n",
    "sin_exps = [exp_of_tri(n+1, beta=np.pi/2) for n in range(n_max)]\n",
    "sin_exps_exact = [exp_of_sin_exact(n+1) for n in range(n_max)]\n",
    "print(mycoef.c + (mycoef.a * cos_exps).sum() + (mycoef.b * sin_exps).sum())\n",
    "print(mycoef.c + (mycoef.a * cos_exps_exact).sum() + (mycoef.b * sin_exps_exact).sum())"
   ]
  },
  {
   "cell_type": "markdown",
   "id": "fb68bf26",
   "metadata": {
    "slideshow": {
     "slide_type": "slide"
    }
   },
   "source": [
    "## 3. Execution\n",
    "* Let's think about parallelization: What versions of QAE can be parallelized? At which level (iteration/shot)? When does it become relevant? What advantage does it bring compared to a sequential execution?\n",
    "* Explain how you would parallelize the Fourier QMCI and the QAE you have chosen if that QAE version can be paralellized.\n",
    "* Define a workload of tasks and orquestrate its execution. Include any assumptions you make (e.g. I have access to 20 Quantum Computers based in the same data center...).\n",
    "* Compare the different approaches.\n",
    "\n",
    "\n",
    "<div class=\"alert alert-block alert-warning\">\n",
    "<b>Hints:</b> \n",
    "    \n",
    "- Read the steps of the algorithm and think whether iterations depend on the previous one or the can be done simultaneously in different quantum backends. \n",
    "_ Think about how to parallelize Fourier QMCI.\n",
    "- Think about the number of iterations, circuit depth, and the number of shots.\n",
    "- Use __[covalent.xyz](https://www.covalent.xyz)__ to define a workflow of the things you need to execute.\n",
    "- Check the opensource platform __[NVIDIA CUDA Quantum](https://developer.nvidia.com/cuda-quantum)__ and their view on orchestration of hybrid workflows. \n",
    "- __[Orquestra](https://www.orquestra.io)__ by Zapata Computing is not open source, but may also give you some ideas.\n",
    "    \n",
    "- <font color=red> (Optional. Avanced) Other proposals __[Error Resilient Quantum Amplitude Estimation from Parallel Quantum Phase Estimation](https://arxiv.org/abs/2204.01337)__ </font>\n",
    "    \n",
    "</div>"
   ]
  },
  {
   "cell_type": "code",
   "execution_count": null,
   "id": "3c3598db",
   "metadata": {
    "slideshow": {
     "slide_type": "fragment"
    }
   },
   "outputs": [],
   "source": [
    "# Write your code here"
   ]
  },
  {
   "cell_type": "markdown",
   "id": "73c55c25",
   "metadata": {
    "slideshow": {
     "slide_type": "slide"
    }
   },
   "source": [
    "<font color=red>\n",
    "\n",
    "## 4. Noise analysis step (Optional. Advanced.)\n",
    "\n",
    "(We recommend to try this after solving the rest of the challenge).\n",
    "    \n",
    "* Can you execute QMC in NISQ devices?\n",
    "* How would you execute it in a quantum backend?\n",
    "* How did you compile the circuits? What is the circuit depth after transpilation?\n",
    "* Did you use any noise mitigation technique? If yes, explain which one and how if affected the results.\n",
    "    \n",
    "</font>\n",
    "\n",
    "\n",
    "\n",
    "\n",
    "<div class=\"alert alert-block alert-warning\">\n",
    "<b>Hints:</b> \n",
    "\n",
    "- You can use an open backend from IBM Quantum, or an Aer simulator.\n",
    "    \n",
    "- Check this paper about __[Noise-Aware QAE](https://arxiv.org/abs/2109.04840)__\n",
    "\n",
    "- You can use __[Fire Opal](https://q-ctrl.com/fire-opal)__ to optimize your results. __[Documentation](https://docs.q-ctrl.com/fire-opal/user-guides/how-to-set-up-your-environment-and-install-fire-opal)__\n",
    "\n",
    "\n",
    "    \n",
    "</div>\n",
    "\n",
    "\n"
   ]
  },
  {
   "cell_type": "code",
   "execution_count": null,
   "id": "61b21d19",
   "metadata": {
    "slideshow": {
     "slide_type": "fragment"
    }
   },
   "outputs": [],
   "source": [
    "# Write your code here"
   ]
  },
  {
   "cell_type": "markdown",
   "id": "543030d7",
   "metadata": {
    "slideshow": {
     "slide_type": "slide"
    }
   },
   "source": [
    "## 5. Benchmarking\n",
    "* Do you estimate this use case will benefit from NISQ devices or do we need Fault Tolerant Quantum computers?\n",
    "* What metric would be more appropiate to compare the performance of your Quantum Monte Carlo solver vs the current classical methods?\n",
    "* <font color=red> (Optional. Advanced) Assume you are a quant at a financial firm. You need to apply Monte Carlo simulation to price (i.e. the expectation of the total assets value) of a portfolio of fixed-income assets (e.g. 10k assets). An accuracy of the order of epsilon = 10e-6 is needed. Notice that the underlying uncertainty of fixed-income assets stems from interest rate and they do not have to follow a GBM like model. For simplicity, take into account that interest rates are only modeled up to one period (T=1), resulting on one-dimensional distribution. There are other models typically used to model the paths of interest rates. Make a rough but reasonable estimation of the quantum hardware resources needed to implement quantum Monte Carlo simulation for this set up. </font>\n",
    "\n",
    "\n",
    "Cite your references."
   ]
  },
  {
   "cell_type": "code",
   "execution_count": null,
   "id": "85215971",
   "metadata": {
    "slideshow": {
     "slide_type": "fragment"
    }
   },
   "outputs": [],
   "source": [
    "# Write your code here"
   ]
  },
  {
   "cell_type": "markdown",
   "id": "0057e918",
   "metadata": {
    "slideshow": {
     "slide_type": "slide"
    }
   },
   "source": [
    "## 6. Pitch your quantum strategy to a client: a bank\n",
    "Imagine you are part of the Quantum team at Moody's. You are meeting the CIO of an important bank in the US, and you need to convince him/her in 5 minutes about why they should start investing in quantum computing today, and define the steps of a high level roadmap they would need to follow to get quantum ready. You can use the Quantum Monte Carlo use case as a proof of concept to support your pitch. \n",
    "\n",
    "You may use up to 3 slides, including roadmap, PoC results and executive summary on why to invest in quantum today.\n",
    "\n",
    "\n",
    "<div class=\"alert alert-block alert-warning\">\n",
    "<b>Hints:</b> \n",
    "    \n",
    "- Research what is an executive summary, and an elevator pitch, and try to follow some of the ideas of these communication tools.\n",
    "- Think about the person you are presenting to. Are they technical people? What is important to them? Build a empathy map to help you build the right message.\n",
    "\n",
    "</div>"
   ]
  },
  {
   "cell_type": "markdown",
   "id": "9b594bec",
   "metadata": {
    "slideshow": {
     "slide_type": "fragment"
    }
   },
   "source": [
    "<img src=\"files/empathymap.png\"  width=\"200\">"
   ]
  },
  {
   "cell_type": "code",
   "execution_count": 5,
   "id": "23b2fb94",
   "metadata": {
    "slideshow": {
     "slide_type": "fragment"
    }
   },
   "outputs": [],
   "source": [
    "# Build your presentation and rehearse your pitch!"
   ]
  },
  {
   "cell_type": "markdown",
   "id": "5b23c2b7",
   "metadata": {
    "slideshow": {
     "slide_type": "slide"
    }
   },
   "source": [
    "# This is the end of the challenge. Good luck..."
   ]
  },
  {
   "cell_type": "markdown",
   "id": "aaf0d3ef",
   "metadata": {
    "slideshow": {
     "slide_type": "fragment"
    }
   },
   "source": [
    "<img src=\"files/keepcalm.png\"  width=\"200\">"
   ]
  }
 ],
 "metadata": {
  "kernelspec": {
   "display_name": "Python 3 (ipykernel)",
   "language": "python",
   "name": "python3"
  },
  "language_info": {
   "codemirror_mode": {
    "name": "ipython",
    "version": 3
   },
   "file_extension": ".py",
   "mimetype": "text/x-python",
   "name": "python",
   "nbconvert_exporter": "python",
   "pygments_lexer": "ipython3",
   "version": "3.9.12"
  }
 },
 "nbformat": 4,
 "nbformat_minor": 5
}
