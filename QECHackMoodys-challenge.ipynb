{
 "cells": [
  {
   "cell_type": "markdown",
   "id": "833b7d13",
   "metadata": {
    "slideshow": {
     "slide_type": "-"
    }
   },
   "source": [
    "<img src=\"files/QHack_poster.png\" >"
   ]
  },
  {
   "cell_type": "markdown",
   "id": "a24ec270",
   "metadata": {
    "slideshow": {
     "slide_type": "-"
    }
   },
   "source": [
    "<img src=\"files/MA_RGB_Blue.jpg\" width=\"200\">"
   ]
  },
  {
   "cell_type": "markdown",
   "id": "bcb0ebad",
   "metadata": {
    "slideshow": {
     "slide_type": "-"
    }
   },
   "source": [
    "<font color=blue>\n",
    "    \n",
    "# The path to Quantum in production in the Financial Industry \n",
    "# The use case of Quantum Monte Carlo Simulation \n",
    "\n",
    "</font>"
   ]
  },
  {
   "cell_type": "markdown",
   "id": "f661cb8c",
   "metadata": {
    "slideshow": {
     "slide_type": "-"
    }
   },
   "source": [
    "## Learning objectives of the challenge\n",
    "\n",
    "**MAIN LEARNING OBJECTIVES**\n",
    "1. Mapping a real problem to a quantum circuit. \n",
    "2. Programming quantum circuits. \n",
    "3. Optimizing quantum algorithms. \n",
    "\n",
    "**ABOUT THE INDUSTRY**\n",
    "\n",
    "<div class=\"alert alert-block alert-success\">\n",
    "    \n",
    "- What are the companies with potential use cases of quantum computing doing right now to prepare? \n",
    "    \n",
    "- Why do financial institutions need to invest in Quantum Computing?\n",
    "    \n",
    "- What innovation framework do companies use to decide what emerging technology should be investigated?\n",
    "    \n",
    "</div>\n",
    "\n",
    "\n",
    "\n",
    "**ABOUT THE PROBLEMS. SIZE. CLASSICAL METHODS. AND ~QUANTUM~ BUSINESS ADVANTAGE**\n",
    "<div class=\"alert alert-block alert-success\">\n",
    "\n",
    "* What is the size of the problems real companies need to solve in production and when does quantum become relevant?\n",
    "\n",
    "* What state of the art methods would quantum have to compete with?\n",
    "\n",
    "* What benchmarks should we do to decide if we substitute a classical method with a quantum one?\n",
    "\n",
    "* Should we talk about quantum advantage or business advantage?\n",
    "    \n",
    "</div>\n",
    "\n",
    "**ABOUT INTEGRATION AND \"QuantumOps\"**\n",
    "\n",
    "<div class=\"alert alert-block alert-success\">\n",
    "\n",
    "* What tools/ libraries need to be used in order to integrate quantum with other accelerators such as GPUs/ CPUs/ FPGAs etc?\n",
    "\n",
    "* How do you orchestrate all the resources needed to solve a production size problem?\n",
    "\n",
    "* How to manage the life cycle of a model in production?\n",
    "\n",
    "* How do we integrate a quantum computer, with the current infrastructure a company has?\n",
    "\n",
    "* How do we integrate a quantum solver with the current software products a company has?\n",
    "\n",
    "* What are all the layers that we have to take into consideration when using a quantum computer in production? </div>"
   ]
  },
  {
   "cell_type": "markdown",
   "id": "33e41541",
   "metadata": {
    "slideshow": {
     "slide_type": "-"
    }
   },
   "source": [
    "## The challenge"
   ]
  },
  {
   "cell_type": "markdown",
   "id": "71368cc4",
   "metadata": {
    "slideshow": {
     "slide_type": "-"
    }
   },
   "source": [
    "### Problem Statement \n",
    "\n",
    "Let $S_t$ be a stochastic process indexed by time $t$. Let the dynamics of $S_t$ be given by:\n",
    "\n",
    "**Eq. (1)** $$ dS_t = \\mu S_t dt + \\sigma S_t dW_t $$ \n",
    "\n",
    "where $S_0=50$, $\\mu= 0.1$ and $\\sigma= 0.2$ are constants, and $dW_{t}$ is change in a standard Gaussian process in $dt$ time and can be thought of as:\n",
    "\n",
    "$$dW_t=\\mathcal{N}(0,1)\\sqrt{dt}$$\n",
    "\n",
    "\n",
    "This kind of stochastic process is known as a geometric Brownian motion (GBM) (also known as exponential Brownian motion).\n",
    "\n",
    "\n",
    "### SECTION 1: The classical solution. Monte Carlo Simulation.\n",
    "\n",
    "Using the above write a simulation code to compute:\n",
    "\n",
    "* $\\mathbb{E}[S_T]$\n",
    "\n",
    "where T=10\n",
    "\n",
    "Some theory:\n",
    "\n",
    "* The expectation of a random variable can be estimated by averaging samples (let $X \\stackrel{}{\\sim} p(x)$):\n",
    "$$\\mathbb{E}[X]= \\int xp(x)dx \\approx \\frac{1}{N}\\sum_{j=1}^{N}X_j $$\n",
    "\n",
    "* When performed on a digital computer (classical or quantum), any continuous $p(x)$ must be truncated and discretised:\n",
    "$$\\mathbb{E}[X]= \\sum_x xp(x) \\approx \\frac{1}{N}\\sum_{j=1}^{N}X_j $$\n",
    "\n",
    "\n",
    "<div class=\"alert alert-block alert-warning\">\n",
    "<b>Hints:</b> \n",
    "    \n",
    "- Discretize the time between t=0 to t=T in 100 steps.\n",
    "- Use **Eq. (1)** to generate 10000 paths between t=0 to t=T (discretize the differential equation.)\n",
    "- Compute the expectation by averaging over the paths.\n",
    "- Another option is to use the analytical solution of the SDE, which is possible for this Stochastical Differential equation.\n",
    "    \n",
    "</div>\n"
   ]
  },
  {
   "cell_type": "markdown",
   "id": "22eb84dc",
   "metadata": {
    "slideshow": {
     "slide_type": "-"
    }
   },
   "source": [
    "This problem is usually solved using Monte Carlo simulation. Monte Carlo sampling is a set of techniques that randomly generate numerical quantities for the purpose of simulating a statistical distribution or computing a moment or other expectation thereof (e.g., mean, variance)."
   ]
  },
  {
   "cell_type": "markdown",
   "id": "252e80f5",
   "metadata": {},
   "source": [
    "Expect to see an exponential growth of $\\mathbb{E}[S_t]$\\\n",
    "$S_t=S_0\\ exp((\\mu-\\sigma^2/2)t+\\sigma W_t)$"
   ]
  },
  {
   "cell_type": "code",
   "execution_count": 86,
   "id": "b1da3f47",
   "metadata": {
    "slideshow": {
     "slide_type": "-"
    }
   },
   "outputs": [],
   "source": [
    "import numpy as np\n",
    "import matplotlib.pyplot as plt\n",
    "S0, mu, sigma = 50, 0.1, 0.2\n",
    "T, m, M = 10, 100, 10000\n",
    "dt = float(T) / m\n",
    "K = 100\n",
    "# M := number of paths\n",
    "# m := T/dt\n",
    "\n",
    "def exp_S_analytic():\n",
    "    St = np.exp(\n",
    "        (mu - sigma ** 2 / 2) * dt\n",
    "        + sigma * np.random.normal(0, np.sqrt(dt), size=(M,m)).T\n",
    "    )\n",
    "\n",
    "    St = np.vstack([np.ones(M), St])\n",
    "\n",
    "    St = S0 * St.cumprod(axis=0) # cumulative product\n",
    "    return St\n",
    "\n",
    "def exp_S():\n",
    "    S = np.zeros((m+1,M))\n",
    "    S[0] = S0\n",
    "    for i in range(m):\n",
    "        dS = mu * S[i,:] * dt + sigma * S[i,:] * np.random.normal(0, np.sqrt(dt), size=(M))\n",
    "        S[i+1,:] = S[i,:] + dS\n",
    "    return S"
   ]
  },
  {
   "cell_type": "code",
   "execution_count": 87,
   "id": "57264596",
   "metadata": {
    "slideshow": {
     "slide_type": "-"
    }
   },
   "outputs": [
    {
     "data": {
      "image/png": "[encoded data removed]",
      "text/plain": [
       "<Figure size 640x480 with 1 Axes>"
      ]
     },
     "metadata": {},
     "output_type": "display_data"
    }
   ],
   "source": [
    "time = np.linspace(0,T,m+1)\n",
    "\n",
    "analytic_ans = exp_S_analytic()\n",
    "ans = exp_S()\n",
    "\n",
    "# Require numpy array that is the same shape as St\n",
    "plt.plot(time, analytic_ans.mean(axis=1), label=\"analytical\")\n",
    "plt.plot(time, ans.mean(axis=1), label=\"integrated\")\n",
    "plt.xlabel(\"$t$\")\n",
    "plt.ylabel(\"$\\mathbb{E}[S_t]$\")\n",
    "plt.legend(loc=\"upper left\")\n",
    "plt.show()"
   ]
  },
  {
   "cell_type": "code",
   "execution_count": 88,
   "id": "6cde7c96",
   "metadata": {},
   "outputs": [
    {
     "data": {
      "image/png": "[encoded data removed]",
      "text/plain": [
       "<Figure size 640x480 with 1 Axes>"
      ]
     },
     "metadata": {},
     "output_type": "display_data"
    }
   ],
   "source": [
    "# empirical distribution of S_T at T=10\n",
    "counts, bins = np.histogram(ans[-1,:], bins=50)\n",
    "_ = plt.hist(bins[:-1], bins, weights=counts)"
   ]
  },
  {
   "cell_type": "markdown",
   "id": "ed528f97",
   "metadata": {},
   "source": [
    "# Expectation estimated using classical MC is around 49~50"
   ]
  },
  {
   "cell_type": "code",
   "execution_count": 89,
   "id": "b369c840",
   "metadata": {},
   "outputs": [
    {
     "name": "stdout",
     "output_type": "stream",
     "text": [
      "135.73610264923073\n",
      "50.01423183850175\n"
     ]
    }
   ],
   "source": [
    "print(ans[-1,:].mean())                                           # E[S_T]\n",
    "print(np.maximum(ans[-1,:] - K, np.zeros_like(ans[-1,:])).mean()) # E[max(S_T - K, 0)]"
   ]
  },
  {
   "cell_type": "markdown",
   "id": "38782505",
   "metadata": {
    "slideshow": {
     "slide_type": "-"
    }
   },
   "source": [
    "### SECTION 2: The Quantum solution. Quantum Monte Carlo Integration + QAE\n",
    "Now you are required to derive:\n",
    "* $\\mathbb{E}[max(S_T-100, 0)]$ \n",
    "\n",
    "with a quantum computer using the Quantum Amplitude Estimation Algorithm."
   ]
  },
  {
   "cell_type": "markdown",
   "id": "580d96fd",
   "metadata": {
    "slideshow": {
     "slide_type": "subslide"
    }
   },
   "source": [
    "Some more theory:\n",
    "\n",
    "* We may want to estimate the expectation when a function is applied to the samples:\n",
    "\n",
    "$$\\mathbb{E}[f(X)]= \\sum_x f(x)p(x) \\approx \\frac{1}{N}\\sum_{j=1}^{N}f(X_j) $$\n",
    "\n",
    "\n",
    "* Monte-Carlo Integration is a three step process:\n",
    "\n",
    "<div class=\"alert alert-block alert-info\">\n",
    "Prepare samples -> Apply a function -> average\n",
    "</div>\n",
    "\n",
    "\n",
    "* and Quantum Monte-Carlo Integration is essentially the same:\n",
    "\n",
    "<div class=\"alert alert-block alert-info\">\n",
    "Prepare a state -> Apply circuit encoding the function -> QAE algorithm\n",
    "</div>\n"
   ]
  },
  {
   "cell_type": "markdown",
   "id": "474fe466",
   "metadata": {
    "slideshow": {
     "slide_type": "slide"
    }
   },
   "source": [
    "#### BACKGROUND OF THE ALGORITHM\n",
    "\n",
    "Quantum Amplitude Estimation (QAE) __[[1]](https://arxiv.org/abs/quant-ph/0005055)__  is a fundamental quantum algorithm with the potential to achieve a quadratic speedup for many applications that are classically solved through Monte Carlo (MC) simulation. \n",
    "\n",
    "This algorithm could provide an advantage in some relevant applications in the financial sector. In fact, it has been shown how to apply QAE to the problems of option pricing __[[2]](https://arxiv.org/abs/1905.02666)__, risk analysis __[[3]](https://www.nature.com/articles/s41534-019-0130-6)__, __[[4]](https://arxiv.org/abs/2212.07125)__, __[[5]](https://www.mdpi.com/1099-4300/25/4/593)__ and also for generical tasks such as numerical integration __[[6]](https://arxiv.org/abs/1504.06987)__, among others.\n",
    "\n",
    "<div class=\"alert alert-block alert-info\">\n",
    "While the estimation error bound of classical MC simulation scales as O(1/√M), where M denotes the number of (classical) samples, QAE achieves a scaling of O(1/M) for M (quantum) samples, indicating the aforementioned quadratic speedup.\n",
    "\n",
    "</div>\n",
    "\n",
    "\n",
    "QAE was first proposed in 2000 by Brassard and others. However, the first version of the algorithm, that is, the canonical version, requires a very high number of qubits and circuit depth, which makes it impractical in today’s NISQ devices. QAE combines Quantum Phase Estimation (QPE) and Grover’s Algorithm.  Later studies have focused on how to optimize the QAE algorithm. The strategy has been to remove the QPE-dependency and use only Grover iterations. It has been empirically observed that including QPE in QAE does not have any advantages, it only increases the complexity. Moreover, the removal of the QPE-dependency has resulted in reducing the resource requirements of QAE, bringing closer the possibility of practical applications of QAE in the near-term.\n",
    "\n",
    "\n",
    "There are 3 main pain points to work on when solving a problem with this algorithm:\n",
    "1. Uploading the initial probability distribution.\n",
    "2. Computation = iterations of the algorithm (circuit depth).\n",
    "3. Measuring and Post processing.\n",
    "\n",
    "Each  of the parts have their own challenge, and in order to maintain the theoretical quadratic speedup, we have to efficiently solve each of the steps.\n",
    "\n",
    "There are different versions of QAE:\n",
    "\n",
    "* Canonical QAE __[[1]](https://arxiv.org/abs/quant-ph/0005055)__\n",
    "* Maximum Likelihood Amplitude Estimation MLAE __[[2]](https://arxiv.org/abs/1904.10246)__\n",
    "* QAE Simplified QAES __[[3]](https://arxiv.org/abs/1908.10846)__\n",
    "* Iterative QAE IQAE __[[4]](https://arxiv.org/abs/1912.05559)__\n",
    "* Variational QAE __[[5]](https://arxiv.org/abs/2109.03687)__\n",
    "\n",
    "and more.\n",
    "\n",
    "In order to do Quantum Monte-Carlo Integration one may choose among the different versions of QAE.\n",
    "\n",
    "In a recent paper, Steven Herbert proposes a method to do Quantum-monte Carlo Integration called Fourier QMCI __[[6]](https://arxiv.org/abs/2105.09100)__ that provides an optimal way to do the step of encoding the function into a circuit."
   ]
  },
  {
   "cell_type": "markdown",
   "id": "8231aec0",
   "metadata": {
    "slideshow": {
     "slide_type": "subslide"
    }
   },
   "source": [
    "For more information on Quantum proposals to enhance Monte Carlo methods, read __[A Survey of Quantum Alternatives to Randomized Algorithms: Monte Carlo Integration and Beyond](https://arxiv.org/abs/2303.04945)__"
   ]
  },
  {
   "cell_type": "markdown",
   "id": "d6fa3653",
   "metadata": {
    "slideshow": {
     "slide_type": "subslide"
    }
   },
   "source": [
    "You are required to work on the 3 steps mentioned above, and hand in the outputs defined below."
   ]
  },
  {
   "cell_type": "markdown",
   "id": "9611a522",
   "metadata": {
    "slideshow": {
     "slide_type": "slide"
    }
   },
   "source": [
    "# Expected Outputs\n",
    "\n",
    "## 1. Data uploading step. \n",
    "* Explore different techniques to efficiently upload the stochastic process. Choose and implement the technique you want and justify why. For simulation experiments, you may choose the number of samples in the probability distribution you want to consider, we recommend to start with 4. \n",
    "\n",
    "<font color=red>\n",
    "Optional. Advanced exercise. (We recommend to try this after solving the rest of the challenge). Try to encode a Cox-Ingersoll-Ross process into a quantum computer. What about a Heston model?</font> \n",
    "\n",
    "\n",
    "<div class=\"alert alert-block alert-warning\">\n",
    "<b>Hints:</b> \n",
    "    \n",
    "- Read __[The Problem with Grover-Rudolph State Preparation for Quantum Monte-Carlo](https://arxiv.org/abs/2101.02240)__ to understand why efficiently doing this step is important.\n",
    "    \n",
    "- __[qGAN](https://www.nature.com/articles/s41534-019-0223-2)__ have been proposed as an alternative promising way of efficiently uploading data.\n",
    "    \n",
    "- Read about stochastic processes uploading in __[Quantum-enhanced analysis of discrete stochastic processes](https://www.nature.com/articles/s41534-021-00459-2)__\n",
    "    \n",
    "</div>"
   ]
  },
  {
   "cell_type": "markdown",
   "id": "3b0f3a39",
   "metadata": {},
   "source": [
    "[Pricing European Call Options](https://qiskit.org/ecosystem/finance/tutorials/03_european_call_option_pricing.html) \\\n",
    "[Quantum Amplitude Estimation](https://qiskit.org/ecosystem/finance/tutorials/00_amplitude_estimation.html) \\\n",
    "[Option Pricing with qGANs](https://qiskit.org/ecosystem/finance/tutorials/10_qgan_option_pricing.html)"
   ]
  },
  {
   "cell_type": "code",
   "execution_count": 90,
   "id": "8975da69",
   "metadata": {
    "slideshow": {
     "slide_type": "fragment"
    }
   },
   "outputs": [
    {
     "name": "stdout",
     "output_type": "stream",
     "text": [
      "135.9140914229523 95.31684375952338\n"
     ]
    }
   ],
   "source": [
    "# Data Uploading Step\n",
    "from qiskit import QuantumCircuit\n",
    "from qiskit.algorithms import IterativeAmplitudeEstimation, EstimationProblem\n",
    "from qiskit.circuit.library import LinearAmplitudeFunction\n",
    "from qiskit_aer.primitives import Sampler\n",
    "from qiskit_finance.circuit.library import LogNormalDistribution\n",
    "\n",
    "num_uncertainty_qubits = 6\n",
    "\n",
    "mu_      = (mu - 0.5 * sigma**2) * T + np.log(S0)\n",
    "sigma_   = sigma * np.sqrt(T)\n",
    "mean     = np.exp(mu_ + sigma_**2 / 2)\n",
    "assert abs(mean - S0 * np.exp(mu * T)) < 1\n",
    "variance = (np.exp(sigma_**2) - 1) * np.exp(2 * mu_ + sigma_**2)\n",
    "stddev = np.sqrt(variance)\n",
    "print(mean, stddev)\n",
    "                 \n",
    "\n",
    "# lowest and highest value considered for the spot price; in between, an equidistant discretization is considered.\n",
    "low = np.maximum(0, mean - 3 * stddev)\n",
    "high = mean + 5 * stddev\n",
    "\n",
    "# construct A operator for QAE for the payoff function by\n",
    "# composing the uncertainty model and the objective\n",
    "uncertainty_model = LogNormalDistribution(\n",
    "    num_uncertainty_qubits, mu=mu_, sigma=sigma_**2, bounds=(low, high)\n",
    ")"
   ]
  },
  {
   "cell_type": "code",
   "execution_count": 91,
   "id": "27548927",
   "metadata": {},
   "outputs": [
    {
     "data": {
      "image/png": "[encoded data removed]",
      "text/plain": [
       "<Figure size 640x480 with 1 Axes>"
      ]
     },
     "metadata": {},
     "output_type": "display_data"
    },
    {
     "data": {
      "text/plain": [
       "<Figure size 10000x8000 with 0 Axes>"
      ]
     },
     "metadata": {},
     "output_type": "display_data"
    }
   ],
   "source": [
    "# plot probability distribution\n",
    "dis_x = uncertainty_model.values        # discretized x\n",
    "dis_y = uncertainty_model.probabilities # p(x) at these values\n",
    "# print(dis_x, dis_y)\n",
    "plt.bar(dis_x, dis_y, width=40)\n",
    "# plt.xticks(dis_x, size=15, rotation=90)\n",
    "plt.yticks(size=15)\n",
    "# plt.grid()\n",
    "plt.xlabel(\"Spot Price at Maturity $S_T$ (\\$)\", size=15)\n",
    "plt.ylabel(\"Probability ($\\%$)\", size=15)\n",
    "plt.figure(figsize=(100,80))\n",
    "plt.show()"
   ]
  },
  {
   "cell_type": "markdown",
   "id": "c08ff04d",
   "metadata": {},
   "source": [
    "$\\newcommand{\\ra}{\\rangle}$\n",
    "$\\newcommand{\\vect}[1]{{\\mathbf{\\boldsymbol{{#1}}}}}$\n",
    "QMCI can be achieved by constructing a matrix $A=R(P\\otimes I)$ where\\\n",
    "$$P|0\\ra =|p\\ra = \\sum_{\\vect{x}\\in\\{0,1\\}^N} \\sqrt{p(\\vect{x})}|\\vect{x}\\rangle$$\n",
    "$$R = |\\vect{x}\\ra |0\\ra = |\\vect{x}\\ra (\\sqrt{1-f(\\vect{x})} |0\\ra + \\sqrt{f(\\vect{x})} |1\\ra)$$"
   ]
  },
  {
   "cell_type": "markdown",
   "id": "a3689455",
   "metadata": {},
   "source": [
    "<!-- Temporarily set $K=1$.\\ -->\n",
    "Benchmark against the IBM $sin^2(x+\\pi/4)\\approx x+1/2$ method (Linear Amplitude Estimation)."
   ]
  },
  {
   "cell_type": "markdown",
   "id": "5c575962",
   "metadata": {
    "slideshow": {
     "slide_type": "slide"
    }
   },
   "source": [
    "\n",
    "## 2. QAE. \n",
    "* You are asked to implement Fourier QMCI __[[6]](https://arxiv.org/abs/2105.09100)__ and apply it to the function described in the problem statement $max(S_T-100, 0)$\n",
    "* What benefits does it have vs the other versions? \n",
    "\n",
    "\n",
    "<div class=\"alert alert-block alert-warning\">\n",
    "<b>Hints:</b> \n",
    "    \n",
    "- You do not need to derive the circuits of each version of QAE from scratch. Qiskit has some of the versions of QAE implemented as classes. You can explore the circuits using these classes. Check them out __[here](https://qiskit.org/documentation/apidoc/algorithms.html)__.\n",
    "- Qiskit can also help deriving the __[circuit depth](https://qiskit.org/documentation/stubs/qiskit.circuit.QuantumCircuit.depth.html)__.\n",
    "- Note that Fourier QMCI can make use of any of the versions of QAE.\n",
    "    \n",
    "</div>"
   ]
  },
  {
   "cell_type": "markdown",
   "id": "d7c18fd6",
   "metadata": {},
   "source": [
    "### QSAM measurements match the empirical mean $\\mathbb{E}[f(X)]\\approx \\sum_{i\\in\\{0,1\\}^N} p(X_i)\\cdot f(X_i)$ calculated classically!"
   ]
  },
  {
   "cell_type": "code",
   "execution_count": 92,
   "id": "557d4ee4",
   "metadata": {},
   "outputs": [
    {
     "name": "stdout",
     "output_type": "stream",
     "text": [
      "0.0 612.4983102205692\n",
      "-0.0505199999999999\n",
      "-0.04957578032644529\n"
     ]
    }
   ],
   "source": [
    "from qiskit.circuit.library import RYGate, CRYGate\n",
    "from qiskit import *\n",
    "from qiskit.providers.aer import QasmSimulator\n",
    "\n",
    "print(low, high)\n",
    "T = high - low\n",
    "N = num_uncertainty_qubits\n",
    "omega = 2 * np.pi / T\n",
    "Delta = T / (2**N - 1)\n",
    "num_shots = 10**5\n",
    "\n",
    "def exp_of_tri(n, beta=0): # compute the expectation of cos(nwx) or sin(nwx), w is Omega\n",
    "    # n in the index in the Fourier Serier\n",
    "    # beta=0 for cosine, beta = pi/2 for sine\n",
    "    alpha = n * omega * low - beta \n",
    "    theta = n * omega * Delta\n",
    "    tri_circ = QuantumCircuit(QuantumRegister(num_uncertainty_qubits + 1), ClassicalRegister(1))\n",
    "    tri_circ.append(uncertainty_model, range(num_uncertainty_qubits))\n",
    "    tri_circ.append(RYGate(alpha), [N])\n",
    "#     for i in range(1, N+1):\n",
    "#         tri_circ.append(CRYGate(theta * (2**i)), [N-i,N]) # Prob encoding was in the reversed order!\n",
    "    for i in range(0, N):\n",
    "        tri_circ.append(CRYGate(theta * (2**i)), [i, N])\n",
    "    tri_circ.measure(N, 0)\n",
    "    \n",
    "    backend = Aer.get_backend(\"qasm_simulator\")\n",
    "    job = execute(tri_circ, backend, shots=num_shots)\n",
    "    result = job.result()\n",
    "    counts = result.get_counts()\n",
    "#     print(counts)\n",
    "    if '1' not in counts.keys():\n",
    "        counts['1'] = 0\n",
    "#     tri_circ.draw()\n",
    "    return 1 - 2 * float(counts['1']) / num_shots    # the probabiliy of state |1>\n",
    "\n",
    "exp_cos = exp_of_tri(5, np.pi/2)\n",
    "print(exp_cos)\n",
    "\n",
    "def exp_of_cos_classical(n):\n",
    "    cosx = [np.cos(n * omega * x) for x in dis_x]\n",
    "    return (cosx * dis_y).sum()\n",
    "\n",
    "def exp_of_sin_classical(n):\n",
    "    sinx = [np.sin(n * omega * x) for x in dis_x]\n",
    "    return (sinx * dis_y).sum()\n",
    "\n",
    "print(exp_of_sin_classical(5))"
   ]
  },
  {
   "cell_type": "markdown",
   "id": "3d24f5f8",
   "metadata": {},
   "source": [
    "Showing the circuit for calculating $\\mathbb{E}[\\cos(n\\omega x)]$ of a single $n$."
   ]
  },
  {
   "cell_type": "code",
   "execution_count": 93,
   "id": "5541c972",
   "metadata": {},
   "outputs": [
    {
     "data": {
      "text/html": [
       "<pre style=\"word-wrap: normal;white-space: pre;background: #fff0;line-height: 1.1;font-family: &quot;Courier New&quot;,Courier,monospace\">       ┌───────┐                                                             »\n",
       " qb_0: ┤0      ├───────■─────────────────────────────────────────────────────»\n",
       "       │       │       │                                                     »\n",
       " qb_1: ┤1      ├───────┼───────────────■─────────────────────────────────────»\n",
       "       │       │       │               │                                     »\n",
       " qb_2: ┤2      ├───────┼───────────────┼──────────────■──────────────────────»\n",
       "       │  P(X) │       │               │              │                      »\n",
       " qb_3: ┤3      ├───────┼───────────────┼──────────────┼──────────────■───────»\n",
       "       │       │       │               │              │              │       »\n",
       " qb_4: ┤4      ├───────┼───────────────┼──────────────┼──────────────┼───────»\n",
       "       │       │       │               │              │              │       »\n",
       " qb_5: ┤5      ├───────┼───────────────┼──────────────┼──────────────┼───────»\n",
       "       ├───────┤┌──────┴───────┐┌──────┴──────┐┌──────┴──────┐┌──────┴──────┐»\n",
       "    a: ┤ Ry(0) ├┤ Ry(0.099733) ├┤ Ry(0.19947) ├┤ Ry(0.39893) ├┤ Ry(0.79786) ├»\n",
       "       └───────┘└──────────────┘└─────────────┘└─────────────┘└─────────────┘»\n",
       "c15: 1/══════════════════════════════════════════════════════════════════════»\n",
       "                                                                             »\n",
       "«                                      \n",
       "« qb_0: ───────────────────────────────\n",
       "«                                      \n",
       "« qb_1: ───────────────────────────────\n",
       "«                                      \n",
       "« qb_2: ───────────────────────────────\n",
       "«                                      \n",
       "« qb_3: ───────────────────────────────\n",
       "«                                      \n",
       "« qb_4: ──────■────────────────────────\n",
       "«             │                        \n",
       "« qb_5: ──────┼─────────────■──────────\n",
       "«       ┌─────┴──────┐┌─────┴──────┐┌─┐\n",
       "«    a: ┤ Ry(1.5957) ├┤ Ry(3.1915) ├┤M├\n",
       "«       └────────────┘└────────────┘└╥┘\n",
       "«c15: 1/═════════════════════════════╩═\n",
       "«                                    0 </pre>"
      ],
      "text/plain": [
       "       ┌───────┐                                                             »\n",
       " qb_0: ┤0      ├───────■─────────────────────────────────────────────────────»\n",
       "       │       │       │                                                     »\n",
       " qb_1: ┤1      ├───────┼───────────────■─────────────────────────────────────»\n",
       "       │       │       │               │                                     »\n",
       " qb_2: ┤2      ├───────┼───────────────┼──────────────■──────────────────────»\n",
       "       │  P(X) │       │               │              │                      »\n",
       " qb_3: ┤3      ├───────┼───────────────┼──────────────┼──────────────■───────»\n",
       "       │       │       │               │              │              │       »\n",
       " qb_4: ┤4      ├───────┼───────────────┼──────────────┼──────────────┼───────»\n",
       "       │       │       │               │              │              │       »\n",
       " qb_5: ┤5      ├───────┼───────────────┼──────────────┼──────────────┼───────»\n",
       "       ├───────┤┌──────┴───────┐┌──────┴──────┐┌──────┴──────┐┌──────┴──────┐»\n",
       "    a: ┤ Ry(0) ├┤ Ry(0.099733) ├┤ Ry(0.19947) ├┤ Ry(0.39893) ├┤ Ry(0.79786) ├»\n",
       "       └───────┘└──────────────┘└─────────────┘└─────────────┘└─────────────┘»\n",
       "c15: 1/══════════════════════════════════════════════════════════════════════»\n",
       "                                                                             »\n",
       "«                                      \n",
       "« qb_0: ───────────────────────────────\n",
       "«                                      \n",
       "« qb_1: ───────────────────────────────\n",
       "«                                      \n",
       "« qb_2: ───────────────────────────────\n",
       "«                                      \n",
       "« qb_3: ───────────────────────────────\n",
       "«                                      \n",
       "« qb_4: ──────■────────────────────────\n",
       "«             │                        \n",
       "« qb_5: ──────┼─────────────■──────────\n",
       "«       ┌─────┴──────┐┌─────┴──────┐┌─┐\n",
       "«    a: ┤ Ry(1.5957) ├┤ Ry(3.1915) ├┤M├\n",
       "«       └────────────┘└────────────┘└╥┘\n",
       "«c15: 1/═════════════════════════════╩═\n",
       "«                                    0 "
      ]
     },
     "execution_count": 93,
     "metadata": {},
     "output_type": "execute_result"
    }
   ],
   "source": [
    "n, beta = 1, 0\n",
    "alpha = n * omega * low - beta \n",
    "theta = n * omega * Delta\n",
    "tri_circ = QuantumCircuit(QuantumRegister(num_uncertainty_qubits, 'qb'), QuantumRegister(1, 'a'), ClassicalRegister(1))\n",
    "tri_circ.append(uncertainty_model, range(num_uncertainty_qubits))\n",
    "tri_circ.append(RYGate(alpha), [N])\n",
    "for i in range(0, N):\n",
    "    tri_circ.append(CRYGate(theta * (2**i)), [i,N])\n",
    "tri_circ.measure(N, 0)\n",
    "tri_circ.draw()"
   ]
  },
  {
   "cell_type": "markdown",
   "id": "b9051243",
   "metadata": {},
   "source": [
    "# Quantum MC (simulated by QSAM) match the classical MC results quite well!"
   ]
  },
  {
   "cell_type": "markdown",
   "id": "819d3d72",
   "metadata": {},
   "source": [
    "Step 1: Extract Fourier coefficients and showcase that they indeed approximate $\\text{f}(x)$ better and better with larger $n_{max}$."
   ]
  },
  {
   "cell_type": "code",
   "execution_count": 94,
   "id": "0e0596b3",
   "metadata": {},
   "outputs": [],
   "source": [
    "from scipy.integrate import quad\n",
    "\n",
    "def f(x):\n",
    "    if isinstance(x, float):\n",
    "        assert low <= x\n",
    "        assert x <= high\n",
    "        if x == high:\n",
    "            x = low\n",
    "        return max(0, x - K)\n",
    "    elif isinstance(x, np.ndarray):\n",
    "        assert np.all(low <= x)\n",
    "        assert np.all(x <= high)\n",
    "        x[x==high] = low\n",
    "        return np.clip(a=x-K, a_min=0, a_max=None)\n",
    "    else:\n",
    "        raise ValueError('x should be float or np.ndarray!')\n",
    "  \n",
    "def f_periodic(x):\n",
    "    x_shifted = (x - low) % T + low\n",
    "    return f(x_shifted)\n",
    "    \n",
    "def create_coef(n_max):\n",
    "    c = 1.0 / T * quad(func=f, a=low, b=high)[0]\n",
    "    a = np.zeros(n_max, dtype=float)\n",
    "    b = np.zeros(n_max, dtype=float)\n",
    "    pre_factor = 2.0 / T\n",
    "    for n in range(n_max):\n",
    "        nw = (n+1) * omega\n",
    "        a[n] = quad(\n",
    "            func=f, a=low, b=high, weight='cos', wvar=nw\n",
    "        )[0] * pre_factor\n",
    "        b[n] = quad(\n",
    "            func=f, a=low, b=high, weight='sin', wvar=nw\n",
    "        )[0] * pre_factor\n",
    "    return a, b, c\n",
    "\n",
    "def f_series(x, a, b, c, n_max):\n",
    "    if isinstance(x, float):\n",
    "        ans = c\n",
    "    elif isinstance(x, np.ndarray):\n",
    "        ans = c * np.ones_like(x, dtype=float)\n",
    "    else:\n",
    "        raise ValueError('x should be float or np.ndarray!')\n",
    "    for n in range(n_max):\n",
    "        nw = (n+1) * omega\n",
    "        ans += a[n] * np.cos(nw*x)\n",
    "        ans += b[n] * np.sin(nw*x)\n",
    "    return ans\n"
   ]
  },
  {
   "cell_type": "code",
   "execution_count": 22,
   "id": "25d6bc9c",
   "metadata": {},
   "outputs": [
    {
     "name": "stdout",
     "output_type": "stream",
     "text": [
      "nmax=1.000000e+00, rerr=4.599929e-01 c=214.41\n",
      "nmax=1.000000e+01, rerr=4.087765e-01 c=214.41\n",
      "nmax=1.000000e+02, rerr=2.900358e-01 c=214.41\n",
      "nmax=1.000000e+03, rerr=8.102824e-03 c=214.41\n",
      "nmax=1.000000e+04, rerr=2.775070e-03 c=214.41\n"
     ]
    },
    {
     "data": {
      "text/plain": [
       "<matplotlib.legend.Legend at 0x7fb313941ca0>"
      ]
     },
     "execution_count": 22,
     "metadata": {},
     "output_type": "execute_result"
    },
    {
     "data": {
      "image/png": "[encoded data removed]",
      "text/plain": [
       "<Figure size 432x288 with 1 Axes>"
      ]
     },
     "metadata": {
      "needs_background": "light"
     },
     "output_type": "display_data"
    }
   ],
   "source": [
    "NMAX = (1, 10, 100, 1000, 10000)\n",
    "x = np.linspace(-100, 1000, num=500)\n",
    "colors = ('r', 'g', 'b', 'y', 'k')\n",
    "\n",
    "fig, ax = plt.subplots()\n",
    "y_ref = f_periodic(x)\n",
    "ax.plot(x, y_ref)\n",
    "for (i, nm) in enumerate(NMAX):\n",
    "    a,b,c = create_coef(nm)\n",
    "    y_this = f_series(x, a, b, c, nm)\n",
    "    rerr = np.max(np.abs(y_ref-y_this))/high\n",
    "    print('nmax={0:e}, rerr={1:e} c={2:.2f}'.format(nm, rerr, c))\n",
    "    ax.plot(\n",
    "#         x, y_this, color=colors[i], label='nmax={0:.0e}, rerr={1:.2e}'.format(nm,rerr)\n",
    "        x, y_this, color=colors[i], label='nmax={0:.0e}'.format(nm,rerr)\n",
    "    )\n",
    "fig.legend()"
   ]
  },
  {
   "cell_type": "markdown",
   "id": "efcc742a",
   "metadata": {},
   "source": [
    "Step 2: Run QASM simulation of each circuit in order to obtain $\\mathbb{E}[\\cos(n\\omega x)]$ or $\\mathbb{E}[\\sin(n\\omega x)]$. Multiply the result with the corresponding Fourier coefficients, then sum these products up."
   ]
  },
  {
   "cell_type": "code",
   "execution_count": 27,
   "id": "5ab180d1",
   "metadata": {},
   "outputs": [
    {
     "name": "stdout",
     "output_type": "stream",
     "text": [
      "47.303118057426616\n"
     ]
    }
   ],
   "source": [
    "n_max = 10\n",
    "a, b, c = create_coef(n_max)\n",
    "# calculating the expectation of max(S_T-K, 0)\n",
    "cos_exps = [exp_of_tri(n+1, beta=0) for n in range(n_max)]\n",
    "sin_exps = [exp_of_tri(n+1, beta=np.pi/2) for n in range(n_max)]\n",
    "print(c + (a * cos_exps).sum() + (b * sin_exps).sum())"
   ]
  },
  {
   "cell_type": "markdown",
   "id": "b2c66c9f",
   "metadata": {},
   "source": [
    "### Conclusion: The QASM simulation of our circuit (and the post-processing) does give a close result (47\\~48) to the classical calculation of $\\mathbb{E}[f(X)]\\approx \\sum_{i\\in\\{0,1\\}^N} p(X_i)\\cdot f(X_i)$. They are both quite close to the estimated value of the sample-based classical MC (49\\~50)."
   ]
  },
  {
   "cell_type": "code",
   "execution_count": 26,
   "id": "f76b2575",
   "metadata": {},
   "outputs": [
    {
     "name": "stdout",
     "output_type": "stream",
     "text": [
      "47.92776630143416\n"
     ]
    }
   ],
   "source": [
    "cos_exps_exact = [exp_of_cos_classical(n+1) for n in range(n_max)]\n",
    "sin_exps_exact = [exp_of_sin_classical(n+1) for n in range(n_max)]\n",
    "print(c + (a * cos_exps_exact).sum() + (b * sin_exps_exact).sum())"
   ]
  },
  {
   "cell_type": "markdown",
   "id": "fb68bf26",
   "metadata": {
    "slideshow": {
     "slide_type": "slide"
    }
   },
   "source": [
    "## 3. Execution\n",
    "* Let's think about parallelization: What versions of QAE can be parallelized? At which level (iteration/shot)? When does it become relevant? What advantage does it bring compared to a sequential execution?\n",
    "* Explain how you would parallelize the Fourier QMCI and the QAE you have chosen if that QAE version can be paralellized.\n",
    "* Define a workload of tasks and orquestrate its execution. Include any assumptions you make (e.g. I have access to 20 Quantum Computers based in the same data center...).\n",
    "* Compare the different approaches.\n",
    "\n",
    "\n",
    "<div class=\"alert alert-block alert-warning\">\n",
    "<b>Hints:</b> \n",
    "    \n",
    "- Read the steps of the algorithm and think whether iterations depend on the previous one or the can be done simultaneously in different quantum backends. \n",
    "_ Think about how to parallelize Fourier QMCI.\n",
    "- Think about the number of iterations, circuit depth, and the number of shots.\n",
    "- Use __[covalent.xyz](https://www.covalent.xyz)__ to define a workflow of the things you need to execute.\n",
    "- Check the opensource platform __[NVIDIA CUDA Quantum](https://developer.nvidia.com/cuda-quantum)__ and their view on orchestration of hybrid workflows. \n",
    "- __[Orquestra](https://www.orquestra.io)__ by Zapata Computing is not open source, but may also give you some ideas.\n",
    "    \n",
    "- <font color=red> (Optional. Avanced) Other proposals __[Error Resilient Quantum Amplitude Estimation from Parallel Quantum Phase Estimation](https://arxiv.org/abs/2204.01337)__ </font>\n",
    "    \n",
    "</div>"
   ]
  },
  {
   "cell_type": "markdown",
   "id": "94de6753",
   "metadata": {},
   "source": [
    "### Now we aim to parallize the classical calculation of Fourier coefficient $a_k$ with quantum evaluation of $\\mathbb{E}[\\cos{(k\\omega x)}]$. The quantum evalution is left as a place-holder here because we need to queue before running on a quantum hardware."
   ]
  },
  {
   "cell_type": "markdown",
   "id": "0987ee46",
   "metadata": {},
   "source": [
    "Start a local server by typing\n",
    "```covalent start```\n",
    "in command line before running the code below. Go to localhost:48008 to see the produced work-flow graph."
   ]
  },
  {
   "cell_type": "code",
   "execution_count": 28,
   "id": "4d444787",
   "metadata": {},
   "outputs": [],
   "source": [
    "import covalent as ct\n",
    "n_max = 3 # produce a naive graph\n",
    "\n",
    "@ct.electron\n",
    "def add(x, y):\n",
    "    return x + y\n",
    "\n",
    "@ct.electron\n",
    "def mul(x, y):\n",
    "    return x * y\n",
    "\n",
    "@ct.electron\n",
    "def create_coef_n(n, type='a'):\n",
    "    if n == 0:\n",
    "        c = 1.0 / T * quad(func=f, a=low, b=high)[0]\n",
    "        return c\n",
    "    nw = n * omega\n",
    "    pre_factor = 2.0 / T\n",
    "    if type == 'a':\n",
    "        return quad(func=f, a=low, b=high, weight='cos', wvar=nw\n",
    "        )[0] * pre_factor\n",
    "    elif type == 'b':\n",
    "        return quad(func=f, a=low, b=high, weight='sin', wvar=nw\n",
    "        )[0] * pre_factor\n",
    "\n",
    "@ct.electron\n",
    "def exp_of_tri_n(n, beta=0):\n",
    "    return beta # place-holder\n",
    "\n",
    "@ct.lattice\n",
    "def run_QMCI_exp():\n",
    "   \n",
    "    c = create_coef_n(0)\n",
    "    \n",
    "    a1 = create_coef_n(1, 'a')\n",
    "    exp_cos1 = exp_of_tri_n(1, beta=0)\n",
    "    s = mul(a1, exp_cos1)\n",
    "    exp = add(s, c)\n",
    "    \n",
    "    a2 = create_coef_n(2, 'a')\n",
    "    exp_cos2 = exp_of_tri_n(2, beta=0)\n",
    "    s = mul(a2, exp_cos2)\n",
    "    exp = add(s, exp)\n",
    "    \n",
    "    a3 = create_coef_n(3, 'a')\n",
    "    exp_cos3 = exp_of_tri_n(3, beta=0)\n",
    "    s = mul(a3, exp_cos3)\n",
    "    exp = add(s, exp)\n",
    "    \n",
    "    b1 = create_coef_n(1, 'b')\n",
    "    exp_sin1 = exp_of_tri_n(1, beta=np.pi/2)\n",
    "    s = mul(b1, exp_sin1)\n",
    "    exp = add(s, exp)\n",
    "\n",
    "    b2 = create_coef_n(2, 'b')\n",
    "    exp_sin2 = exp_of_tri_n(2, beta=np.pi/2)\n",
    "    s = mul(b2, exp_sin2)\n",
    "    exp = add(s, exp)\n",
    "    \n",
    "    b3 = create_coef_n(3, 'b')\n",
    "    exp_sin3 = exp_of_tri_n(3, beta=np.pi/2)\n",
    "    s = mul(b3, exp_sin3)\n",
    "    exp = add(s, exp)   \n",
    "    \n",
    "    return exp\n",
    "\n",
    "    \n",
    "dispatch_id = ct.dispatch(run_QMCI_exp)()\n"
   ]
  },
  {
   "cell_type": "markdown",
   "id": "fcbe346b",
   "metadata": {},
   "source": [
    "## Shots reduction by adding Ancillas"
   ]
  },
  {
   "cell_type": "markdown",
   "id": "12e9a741",
   "metadata": {},
   "source": [
    "By symmetry, each ancilla is experiencing the same action, so the statistics are the same. Hence, when we add the counts we can actually multiplex the results. We set a rotation on qubit 0 and we let there be two identical Controlled rotations, acting on different qubits. Then as can be seen below, the problem is symmetric. Therefore, when for a single n when we run a 1000 shots on a single ancilla this can be transformed into 1000 / number_of_ancillas shots, yielding the same results. Since before the measurement, all gates commute, because no two CRY gates has a control equal to the target of another. \n",
    "\n",
    "Below is a representation for a rotation of $5\\pi/8$."
   ]
  },
  {
   "cell_type": "code",
   "execution_count": 25,
   "id": "6a5aa67e",
   "metadata": {
    "scrolled": true
   },
   "outputs": [
    {
     "data": {
      "text/html": [
       "<pre style=\"word-wrap: normal;white-space: pre;background: #fff0;line-height: 1.1;font-family: &quot;Courier New&quot;,Courier,monospace\">      ┌─────────┐                              \n",
       "qb_0: ┤ Ry(π/4) ├─────■───────────■────────────\n",
       "      └─────────┘┌────┴─────┐     │      ┌─┐   \n",
       "qb_1: ───────────┤ Ry(5π/8) ├─────┼──────┤M├───\n",
       "                 └──────────┘┌────┴─────┐└╥┘┌─┐\n",
       "qb_2: ───────────────────────┤ Ry(5π/8) ├─╫─┤M├\n",
       "                             └──────────┘ ║ └╥┘\n",
       "c2: 2/════════════════════════════════════╩══╩═\n",
       "                                          0  1 </pre>"
      ],
      "text/plain": [
       "      ┌─────────┐                              \n",
       "qb_0: ┤ Ry(π/4) ├─────■───────────■────────────\n",
       "      └─────────┘┌────┴─────┐     │      ┌─┐   \n",
       "qb_1: ───────────┤ Ry(5π/8) ├─────┼──────┤M├───\n",
       "                 └──────────┘┌────┴─────┐└╥┘┌─┐\n",
       "qb_2: ───────────────────────┤ Ry(5π/8) ├─╫─┤M├\n",
       "                             └──────────┘ ║ └╥┘\n",
       "c2: 2/════════════════════════════════════╩══╩═\n",
       "                                          0  1 "
      ]
     },
     "execution_count": 25,
     "metadata": {},
     "output_type": "execute_result"
    }
   ],
   "source": [
    "qr = QuantumRegister(3, 'qb')\n",
    "cr = ClassicalRegister(2)\n",
    "cirq = QuantumCircuit(qr, cr)\n",
    "\n",
    "cirq.ry(np.pi/4, 0)\n",
    "cirq.append(CRYGate(5*np.pi/8), [0, 1])\n",
    "cirq.append(CRYGate(5*np.pi/8), [0, 2])\n",
    "cirq.measure([1, 2], [0, 1])\n",
    "\n",
    "cirq.draw()"
   ]
  },
  {
   "cell_type": "code",
   "execution_count": 26,
   "id": "b4abc3a9",
   "metadata": {},
   "outputs": [
    {
     "data": {
      "text/html": [
       "<pre style=\"word-wrap: normal;white-space: pre;background: #fff0;line-height: 1.1;font-family: &quot;Courier New&quot;,Courier,monospace\">      ┌─────────┐               \n",
       "qb_0: ┤ Ry(π/4) ├─────■─────────\n",
       "      └─────────┘┌────┴─────┐┌─┐\n",
       "qb_1: ───────────┤ Ry(5π/8) ├┤M├\n",
       "                 └──────────┘└╥┘\n",
       "c3: 1/════════════════════════╩═\n",
       "                              0 </pre>"
      ],
      "text/plain": [
       "      ┌─────────┐               \n",
       "qb_0: ┤ Ry(π/4) ├─────■─────────\n",
       "      └─────────┘┌────┴─────┐┌─┐\n",
       "qb_1: ───────────┤ Ry(5π/8) ├┤M├\n",
       "                 └──────────┘└╥┘\n",
       "c3: 1/════════════════════════╩═\n",
       "                              0 "
      ]
     },
     "execution_count": 26,
     "metadata": {},
     "output_type": "execute_result"
    }
   ],
   "source": [
    "qr = QuantumRegister(2, 'qb')\n",
    "cr = ClassicalRegister(1)\n",
    "single_cirq = QuantumCircuit(qr, cr)\n",
    "single_cirq.ry(np.pi/4, 0)\n",
    "single_cirq.append(CRYGate(5*np.pi/8), [0, 1])\n",
    "single_cirq.measure(1, 0)\n",
    "single_cirq.draw()"
   ]
  },
  {
   "cell_type": "code",
   "execution_count": 159,
   "id": "1e85329e",
   "metadata": {},
   "outputs": [
    {
     "name": "stdout",
     "output_type": "stream",
     "text": [
      "{'00': 4337, '11': 338, '10': 170, '01': 155}\n",
      "{'0': 8971, '1': 1029}\n",
      "Result of two ancillas: 0.1001\n",
      "Result of one ancilla: 0.1029\n"
     ]
    }
   ],
   "source": [
    "n_shots = 10000\n",
    "backend = Aer.get_backend(\"qasm_simulator\")\n",
    "job = execute(cirq, backend, shots=int(n_shots/2))\n",
    "result = job.result()\n",
    "counts = result.get_counts()\n",
    "\n",
    "print(counts)\n",
    "\n",
    "single_backend = Aer.get_backend(\"qasm_simulator\")\n",
    "single_job = execute(single_cirq, backend, shots=n_shots)\n",
    "single_result = single_job.result()\n",
    "single_counts = single_result.get_counts()\n",
    "\n",
    "print(single_counts)\n",
    "\n",
    "qubit_1 = (counts['11'] + counts['10'])/n_shots\n",
    "qubit_2 = (counts['11'] + counts['01'])/n_shots\n",
    "\n",
    "single_qubit = single_counts['1'] / n_shots\n",
    "\n",
    "print(f'Result of two ancillas: {qubit_1 + qubit_2}')\n",
    "print(f'Result of one ancilla: {single_qubit}')\n"
   ]
  },
  {
   "cell_type": "markdown",
   "id": "aab2d2b1",
   "metadata": {},
   "source": [
    "As can be seen from the random statistics, the results are pretty close as required."
   ]
  },
  {
   "cell_type": "markdown",
   "id": "4472563a",
   "metadata": {},
   "source": [
    "### Multiple qubit realisation"
   ]
  },
  {
   "cell_type": "markdown",
   "id": "0b592e11",
   "metadata": {},
   "source": [
    "Below is an implementation of the Fourier Monte Carlo Integration circuit, for a single Fourier index n. The number of qubits, i.e. the discretization can be chosen, as well as the ancilla qubits, i.e. the shots reduction. The algorithm permutes the gate entries such that they can be executed on different qubits at the same time. "
   ]
  },
  {
   "cell_type": "code",
   "execution_count": 53,
   "id": "3c3598db",
   "metadata": {
    "scrolled": false,
    "slideshow": {
     "slide_type": "fragment"
    }
   },
   "outputs": [
    {
     "data": {
      "image/png": "[encoded data removed]",
      "text/plain": [
       "<Figure size 974.818x535.111 with 1 Axes>"
      ]
     },
     "execution_count": 53,
     "metadata": {},
     "output_type": "execute_result"
    }
   ],
   "source": [
    "n = 2\n",
    "num_qubits = 3\n",
    "num_ancilla = 2\n",
    "\n",
    "T = high - low\n",
    "omega = 2 * np.pi / T\n",
    "Delta = T / (2**N - 1)\n",
    "alpha = n * omega * low - beta \n",
    "theta = n * omega * Delta\n",
    "\n",
    "uncertainty_model = LogNormalDistribution(\n",
    "    num_qubits, mu=mu_, sigma=sigma_**2, bounds=(low, high)\n",
    ")\n",
    "\n",
    "tri_circ = QuantumCircuit(QuantumRegister(num_qubits, 'qb'), QuantumRegister(num_ancilla, 'a'), \n",
    "                          ClassicalRegister(num_ancilla, 'c'))\n",
    "tri_circ.append(uncertainty_model, range(num_qubits))\n",
    "\n",
    "# Initial rotation. \n",
    "for i in range(0, num_ancilla): \n",
    "    tri_circ.append(RYGate(alpha), [num_qubits+i])\n",
    "\n",
    "\n",
    "# num_ancilla permutations\n",
    "angles_pairs = np.array([[theta * 2**i, i] for i in range(0, num_qubits)])\n",
    "new_angles = np.zeros((angles_pairs.shape))\n",
    "\n",
    "for i in range(0, num_ancilla):\n",
    "    new_angles = np.dstack((new_angles, np.roll(angles_pairs, i, axis=0)))\n",
    "\n",
    "new_angles = new_angles[:, :, 1:]\n",
    "\n",
    "# for i in range(0, num_ancilla):\n",
    "#     for i, (angle, qubit) in current_angles[i]:\n",
    "# #         tri_circ.append(CRYGate(angle), [int(qubit), num_qubits+i])\n",
    "\n",
    "angles_pairs = np.array([[theta * 2**i, i] for i in range(0, num_qubits)])\n",
    "new_angles = np.zeros((angles_pairs.shape))\n",
    "\n",
    "for i in range(0, num_ancilla):\n",
    "    new_angles = np.dstack((new_angles, np.roll(angles_pairs, i, axis=0)))\n",
    "\n",
    "new_angles = new_angles[:, :, 1:]\n",
    "for i in range(0, num_ancilla+1):\n",
    "    for j, group in enumerate(new_angles[i,:,:].T):\n",
    "        tri_circ.append(CRYGate(group[0]), [int(group[1]), num_qubits+j])\n",
    "\n",
    "tri_circ.barrier()\n",
    "tri_circ.measure([num_qubits + i for i in range(0, num_ancilla)], [i for i in range(0, num_ancilla)])\n",
    "tri_circ.draw('mpl', filename='C:\\\\Users\\\\hidde\\\\OneDrive\\\\ETH\\\\Spring 2022\\\\Quantum Hackathon\\AncillaCircuit')"
   ]
  },
  {
   "cell_type": "markdown",
   "id": "5bcf2688",
   "metadata": {},
   "source": [
    "Extract the counts for the right label. "
   ]
  },
  {
   "cell_type": "code",
   "execution_count": 163,
   "id": "60b1e8f9",
   "metadata": {},
   "outputs": [
    {
     "name": "stdout",
     "output_type": "stream",
     "text": [
      "0.64575\n"
     ]
    }
   ],
   "source": [
    "import itertools\n",
    "backend = Aer.get_backend(\"qasm_simulator\")\n",
    "shots = 10000\n",
    "job = execute(tri_circ, backend, shots=shots)\n",
    "result = job.result()\n",
    "counts = result.get_counts()\n",
    "states = [\"0\", \"1\"]\n",
    "iterable = [states] * num_ancilla\n",
    "\n",
    "count = 0\n",
    "for i in range(0, num_ancilla):\n",
    "    for state in itertools.product(*iterable):\n",
    "        if state[i] == '1':\n",
    "            state = ''.join(state)\n",
    "            count += counts[state] / (num_ancilla * shots)\n",
    "\n",
    "print(count)"
   ]
  },
  {
   "cell_type": "markdown",
   "id": "46b0dd9e",
   "metadata": {},
   "source": [
    "## Distributed discretized qubits "
   ]
  },
  {
   "cell_type": "markdown",
   "id": "94214e77",
   "metadata": {},
   "source": [
    "Imagine in the future that the discretization will cover about a million nodes. It is not unimaginable that by that time we would not necessarily have a million qubit chip, but we do have multiple well functioning large chips. In this case the computing can be distributed to multiple chips. There are multiple scenarios:\n",
    "- There is one ancilla, multiple banks of qubits storing the discretization.\n",
    "- There are multiple banks of ancillas, one bank of qubits storing the discretization. \n",
    "- There are multiple banks fo ancillas and multiple banks of qubits.\n",
    "\n",
    "In the first case the ancilla interacts with different nodes on the quantum network after one another. The second case is more optimal, a single bank can interact with multiple nodes as long as the control qubits and target qubits are different. In the third case we have a combination of the first and second situation. Here we would optimize to use as many ancillas and storage banks at the same time as possible. If the ancilla chips are large enough the previous algorithm can be implemented to optimize the performance even further. "
   ]
  },
  {
   "cell_type": "markdown",
   "id": "73c55c25",
   "metadata": {
    "slideshow": {
     "slide_type": "slide"
    }
   },
   "source": [
    "<font color=red>\n",
    "\n",
    "## 4. Noise analysis step (Optional. Advanced.)\n",
    "\n",
    "(We recommend to try this after solving the rest of the challenge).\n",
    "    \n",
    "* Can you execute QMC in NISQ devices?\n",
    "* How would you execute it in a quantum backend?\n",
    "* How did you compile the circuits? What is the circuit depth after transpilation?\n",
    "* Did you use any noise mitigation technique? If yes, explain which one and how if affected the results.\n",
    "    \n",
    "</font>\n",
    "\n",
    "\n",
    "\n",
    "\n",
    "<div class=\"alert alert-block alert-warning\">\n",
    "<b>Hints:</b> \n",
    "\n",
    "- You can use an open backend from IBM Quantum, or an Aer simulator.\n",
    "    \n",
    "- Check this paper about __[Noise-Aware QAE](https://arxiv.org/abs/2109.04840)__\n",
    "\n",
    "- You can use __[Fire Opal](https://q-ctrl.com/fire-opal)__ to optimize your results. __[Documentation](https://docs.q-ctrl.com/fire-opal/user-guides/how-to-set-up-your-environment-and-install-fire-opal)__\n",
    "\n",
    "\n",
    "    \n",
    "</div>\n",
    "\n",
    "\n"
   ]
  },
  {
   "cell_type": "code",
   "execution_count": 72,
   "id": "61b21d19",
   "metadata": {
    "slideshow": {
     "slide_type": "fragment"
    }
   },
   "outputs": [],
   "source": [
    "# Write your code here\n",
    "from qiskit_ibm_runtime import QiskitRuntimeService, Sampler\n",
    "from qiskit.circuit.library import RYGate, CRYGate\n",
    "from qiskit import *\n",
    "from qiskit.providers.aer import QasmSimulator\n",
    "import fireopal\n",
    "\n",
    "# Initialize the account first.\n",
    "# QiskitRuntimeService.save_account(channel=\"ibm_quantum\", token=\"your_token\")"
   ]
  },
  {
   "cell_type": "code",
   "execution_count": 73,
   "id": "156e1624",
   "metadata": {},
   "outputs": [
    {
     "data": {
      "text/plain": [
       "[<IBMBackend('ibmq_quito')>,\n",
       " <IBMBackend('ibmq_lima')>,\n",
       " <IBMBackend('ibmq_manila')>,\n",
       " <IBMBackend('ibm_nairobi')>,\n",
       " <IBMBackend('ibm_lagos')>,\n",
       " <IBMBackend('ibmq_belem')>,\n",
       " <IBMBackend('ibm_perth')>,\n",
       " <IBMBackend('ibmq_jakarta')>]"
      ]
     },
     "execution_count": 73,
     "metadata": {},
     "output_type": "execute_result"
    }
   ],
   "source": [
    "service = QiskitRuntimeService()\n",
    "service.backends(simulator=False, operational=True, min_num_qubits=5)"
   ]
  },
  {
   "cell_type": "code",
   "execution_count": 74,
   "id": "37e92d6a",
   "metadata": {},
   "outputs": [],
   "source": [
    "backend_name = 'ibmq_lima'\n",
    "backend = service.backend(backend_name)"
   ]
  },
  {
   "cell_type": "code",
   "execution_count": 75,
   "id": "b3d1bf89",
   "metadata": {},
   "outputs": [
    {
     "data": {
      "text/html": [
       "<pre style=\"word-wrap: normal;white-space: pre;background: #fff0;line-height: 1.1;font-family: &quot;Courier New&quot;,Courier,monospace\">       ┌───────┐                                        \n",
       " qb_0: ┤0      ├─────■──────────────────────────────────\n",
       "       │       │     │                                  \n",
       " qb_1: ┤1 P(X) ├─────┼───────────■──────────────────────\n",
       "       │       │     │           │                      \n",
       " qb_2: ┤2      ├─────┼───────────┼────────────■─────────\n",
       "       ├───────┤┌────┴─────┐┌────┴─────┐┌─────┴─────┐┌─┐\n",
       "    a: ┤ Ry(0) ├┤ Ry(4π/7) ├┤ Ry(8π/7) ├┤ Ry(16π/7) ├┤M├\n",
       "       └───────┘└──────────┘└──────────┘└───────────┘└╥┘\n",
       "c13: 1/═══════════════════════════════════════════════╩═\n",
       "                                                      0 </pre>"
      ],
      "text/plain": [
       "       ┌───────┐                                        \n",
       " qb_0: ┤0      ├─────■──────────────────────────────────\n",
       "       │       │     │                                  \n",
       " qb_1: ┤1 P(X) ├─────┼───────────■──────────────────────\n",
       "       │       │     │           │                      \n",
       " qb_2: ┤2      ├─────┼───────────┼────────────■─────────\n",
       "       ├───────┤┌────┴─────┐┌────┴─────┐┌─────┴─────┐┌─┐\n",
       "    a: ┤ Ry(0) ├┤ Ry(4π/7) ├┤ Ry(8π/7) ├┤ Ry(16π/7) ├┤M├\n",
       "       └───────┘└──────────┘└──────────┘└───────────┘└╥┘\n",
       "c13: 1/═══════════════════════════════════════════════╩═\n",
       "                                                      0 "
      ]
     },
     "execution_count": 75,
     "metadata": {},
     "output_type": "execute_result"
    }
   ],
   "source": [
    "n = 2\n",
    "T = high - low\n",
    "N = num_uncertainty_qubits\n",
    "omega = 2 * np.pi / T\n",
    "Delta = T / (2**N - 1)\n",
    "num_shots = 10**5\n",
    "alpha = n * omega * low \n",
    "theta = n * omega * Delta\n",
    "tri_circ = QuantumCircuit(QuantumRegister(num_uncertainty_qubits, 'qb'),\n",
    "                          QuantumRegister(1, 'a'), \n",
    "                          ClassicalRegister(1))\n",
    "tri_circ.append(uncertainty_model, range(num_uncertainty_qubits))\n",
    "tri_circ.append(RYGate(alpha), [N])\n",
    "for i in range(0, N):\n",
    "    tri_circ.append(CRYGate(theta * (2**i)), [i,N])\n",
    "tri_circ.measure(N, 0)\n",
    "tri_circ.draw()"
   ]
  },
  {
   "cell_type": "code",
   "execution_count": 23,
   "id": "b944c2c0",
   "metadata": {},
   "outputs": [
    {
     "name": "stdout",
     "output_type": "stream",
     "text": [
      ">>> Job ID: chbdfdhmfb1ddb51gtt0\n",
      ">>> Job Status: JobStatus.DONE\n"
     ]
    }
   ],
   "source": [
    "sampler = Sampler(session=backend)\n",
    "job = sampler.run(tri_circ, shots=2048)\n",
    "result = job.result()\n",
    "print(f\">>> Job ID: {job.job_id()}\")\n",
    "print(f\">>> Job Status: {job.status()}\")"
   ]
  },
  {
   "cell_type": "code",
   "execution_count": 24,
   "id": "3f702b2a",
   "metadata": {
    "scrolled": true
   },
   "outputs": [
    {
     "name": "stdout",
     "output_type": "stream",
     "text": [
      "0.5360701731018344\n"
     ]
    }
   ],
   "source": [
    "print(result.quasi_dists[0][1])"
   ]
  },
  {
   "cell_type": "markdown",
   "id": "e6cc4f86",
   "metadata": {},
   "source": [
    "With this strategy we can essentially run the circuit on a real quantum computer. However, for the purposes of this task, that is not super usefull and will simply take a lot of time, since at the time of compiling this the QPU's were quite busy. "
   ]
  },
  {
   "cell_type": "code",
   "execution_count": 29,
   "id": "dfb96c67",
   "metadata": {
    "scrolled": true
   },
   "outputs": [
    {
     "data": {
      "text/html": [
       "<pre style=\"word-wrap: normal;white-space: pre;background: #fff0;line-height: 1.1;font-family: &quot;Courier New&quot;,Courier,monospace\">global phase: 3π/2\n",
       "                                                                        »\n",
       "     qb_0 -> 0 ─────────────────────────────────────────────────────────»\n",
       "               ┌────────┐┌────┐┌────────────┐┌────┐                     »\n",
       "     qb_2 -> 1 ┤ Rz(-π) ├┤ √X ├┤ Rz(2.5556) ├┤ √X ├──■──────────────────»\n",
       "               ├────────┤├────┤├────────────┤├────┤┌─┴─┐┌────────┐┌────┐»\n",
       "     qb_1 -> 2 ┤ Rz(-π) ├┤ √X ├┤ Rz(1.9878) ├┤ √X ├┤ X ├┤ Rz(-π) ├┤ √X ├»\n",
       "               ├────────┤├────┤└┬──────────┬┘├────┤└───┘└────────┘└────┘»\n",
       "      a_0 -> 3 ┤ Rz(-π) ├┤ √X ├─┤ Rz(5π/7) ├─┤ √X ├─────────────────────»\n",
       "               └────────┘└────┘ └──────────┘ └────┘                     »\n",
       "ancilla_0 -> 4 ─────────────────────────────────────────────────────────»\n",
       "                                                                        »\n",
       "         c4: 1/═════════════════════════════════════════════════════════»\n",
       "                                                                        »\n",
       "«                                             ┌───┐                     »\n",
       "«     qb_0 -> 0 ───────────────────────────■──┤ X ├──■──────────────────»\n",
       "«                                        ┌─┴─┐└─┬─┘┌─┴─┐┌────────┐┌────┐»\n",
       "«     qb_2 -> 1 ──────────────────────■──┤ X ├──■──┤ X ├┤ Rz(-π) ├┤ √X ├»\n",
       "«               ┌────────────┐┌────┐┌─┴─┐└───┘     └───┘└────────┘└────┘»\n",
       "«     qb_1 -> 2 ┤ Rz(2.8455) ├┤ √X ├┤ X ├───────────────────────────────»\n",
       "«               └────────────┘└────┘└───┘                               »\n",
       "«      a_0 -> 3 ────────────────────────────────────────────────────────»\n",
       "«                                                                       »\n",
       "«ancilla_0 -> 4 ────────────────────────────────────────────────────────»\n",
       "«                                                                       »\n",
       "«         c4: 1/════════════════════════════════════════════════════════»\n",
       "«                                                                       »\n",
       "«                                                                            »\n",
       "«     qb_0 -> 0 ─────────────────────────────────────────────────────────────»\n",
       "«               ┌────────────┐┌────┐┌───┐┌────────┐┌────┐┌────────────┐┌────┐»\n",
       "«     qb_2 -> 1 ┤ Rz(1.4754) ├┤ √X ├┤ X ├┤ Rz(-π) ├┤ √X ├┤ Rz(2.6534) ├┤ √X ├»\n",
       "«               └────────────┘└────┘└─┬─┘└────────┘└────┘└────────────┘└────┘»\n",
       "«     qb_1 -> 2 ──────────────────────■──────────────────────────────────────»\n",
       "«                                                                            »\n",
       "«      a_0 -> 3 ─────────────────────────────────────────────────────────────»\n",
       "«                                                                            »\n",
       "«ancilla_0 -> 4 ─────────────────────────────────────────────────────────────»\n",
       "«                                                                            »\n",
       "«         c4: 1/═════════════════════════════════════════════════════════════»\n",
       "«                                                                            »\n",
       "«                                                                            »\n",
       "«     qb_0 -> 0 ──■──────────────────────────────────────────────────────────»\n",
       "«               ┌─┴─┐┌────────┐┌────┐┌───────────┐┌────┐┌───┐┌────────┐┌────┐»\n",
       "«     qb_2 -> 1 ┤ X ├┤ Rz(-π) ├┤ √X ├┤ Rz(2.627) ├┤ √X ├┤ X ├┤ Rz(-π) ├┤ √X ├»\n",
       "«               └───┘└────────┘└────┘└───────────┘└────┘└─┬─┘└────────┘└────┘»\n",
       "«     qb_1 -> 2 ──────────────────────────────────────────■──────────────────»\n",
       "«                                                                            »\n",
       "«      a_0 -> 3 ─────────────────────────────────────────────────────────────»\n",
       "«                                                                            »\n",
       "«ancilla_0 -> 4 ─────────────────────────────────────────────────────────────»\n",
       "«                                                                            »\n",
       "«         c4: 1/═════════════════════════════════════════════════════════════»\n",
       "«                                                                            »\n",
       "«                                                                              »\n",
       "«     qb_0 -> 0 ─────────────────────■─────────────────────────────────────────»\n",
       "«               ┌───────────┐┌────┐┌─┴─┐                                       »\n",
       "«     qb_2 -> 1 ┤ Rz(2.669) ├┤ √X ├┤ X ├──■────────────────────────────────────»\n",
       "«               └───────────┘└────┘└───┘  │                                    »\n",
       "«     qb_1 -> 2 ──────────────────────────┼────────────────────────────────────»\n",
       "«                                       ┌─┴─┐┌────┐┌──────────┐┌────┐┌────────┐»\n",
       "«      a_0 -> 3 ────────────────────────┤ X ├┤ √X ├┤ Rz(5π/7) ├┤ √X ├┤ Rz(-π) ├»\n",
       "«                                       └───┘└────┘└──────────┘└────┘└────────┘»\n",
       "«ancilla_0 -> 4 ───────────────────────────────────────────────────────────────»\n",
       "«                                                                              »\n",
       "«         c4: 1/═══════════════════════════════════════════════════════════════»\n",
       "«                                                                              »\n",
       "«                                                                          »\n",
       "«     qb_0 -> 0 ───────────────────────────────────────────────────────────»\n",
       "«                    ┌───┐     ┌───┐┌────────┐┌────┐┌──────────┐┌────┐┌───┐»\n",
       "«     qb_2 -> 1 ──■──┤ X ├──■──┤ X ├┤ Rz(-π) ├┤ √X ├┤ Rz(3π/7) ├┤ √X ├┤ X ├»\n",
       "«                 │  └─┬─┘  │  └─┬─┘└────────┘└────┘└──────────┘└────┘└─┬─┘»\n",
       "«     qb_1 -> 2 ──┼────┼────┼────┼──────────────────────────────────────■──»\n",
       "«               ┌─┴─┐  │  ┌─┴─┐  │                                         »\n",
       "«      a_0 -> 3 ┤ X ├──■──┤ X ├──■─────────────────────────────────────────»\n",
       "«               └───┘     └───┘                                            »\n",
       "«ancilla_0 -> 4 ───────────────────────────────────────────────────────────»\n",
       "«                                                                          »\n",
       "«         c4: 1/═══════════════════════════════════════════════════════════»\n",
       "«                                                                          »\n",
       "«                                                                             »\n",
       "«     qb_0 -> 0 ──────────────────────────────────────────────────────────────»\n",
       "«               ┌────┐┌──────────┐┌────┐┌────────┐┌───┐┌────┐┌─────────┐┌────┐»\n",
       "«     qb_2 -> 1 ┤ √X ├┤ Rz(3π/7) ├┤ √X ├┤ Rz(-π) ├┤ X ├┤ √X ├┤ Rz(π/7) ├┤ √X ├»\n",
       "«               └────┘└──────────┘└────┘└────────┘└─┬─┘└────┘└─────────┘└────┘»\n",
       "«     qb_1 -> 2 ────────────────────────────────────■─────────────────────────»\n",
       "«                                                                             »\n",
       "«      a_0 -> 3 ──────────────────────────────────────────────────────────────»\n",
       "«                                                                             »\n",
       "«ancilla_0 -> 4 ──────────────────────────────────────────────────────────────»\n",
       "«                                                                             »\n",
       "«         c4: 1/══════════════════════════════════════════════════════════════»\n",
       "«                                                                             »\n",
       "«                                                                     ░    \n",
       "«     qb_0 -> 0 ────────────■─────────────────────────────────────■───░────\n",
       "«               ┌────────┐┌─┴─┐┌────────┐┌────┐┌─────────┐┌────┐┌─┴─┐ ░ ┌─┐\n",
       "«     qb_2 -> 1 ┤ Rz(-π) ├┤ X ├┤ Rz(-π) ├┤ √X ├┤ Rz(π/7) ├┤ √X ├┤ X ├─░─┤M├\n",
       "«               └────────┘└───┘└────────┘└────┘└─────────┘└────┘└───┘ ░ └╥┘\n",
       "«     qb_1 -> 2 ──────────────────────────────────────────────────────░──╫─\n",
       "«                                                                     ░  ║ \n",
       "«      a_0 -> 3 ──────────────────────────────────────────────────────░──╫─\n",
       "«                                                                     ░  ║ \n",
       "«ancilla_0 -> 4 ─────────────────────────────────────────────────────────╫─\n",
       "«                                                                        ║ \n",
       "«         c4: 1/═════════════════════════════════════════════════════════╩═\n",
       "«                                                                        0 </pre>"
      ],
      "text/plain": [
       "global phase: 3π/2\n",
       "                                                                        »\n",
       "     qb_0 -> 0 ─────────────────────────────────────────────────────────»\n",
       "               ┌────────┐┌────┐┌────────────┐┌────┐                     »\n",
       "     qb_2 -> 1 ┤ Rz(-π) ├┤ √X ├┤ Rz(2.5556) ├┤ √X ├──■──────────────────»\n",
       "               ├────────┤├────┤├────────────┤├────┤┌─┴─┐┌────────┐┌────┐»\n",
       "     qb_1 -> 2 ┤ Rz(-π) ├┤ √X ├┤ Rz(1.9878) ├┤ √X ├┤ X ├┤ Rz(-π) ├┤ √X ├»\n",
       "               ├────────┤├────┤└┬──────────┬┘├────┤└───┘└────────┘└────┘»\n",
       "      a_0 -> 3 ┤ Rz(-π) ├┤ √X ├─┤ Rz(5π/7) ├─┤ √X ├─────────────────────»\n",
       "               └────────┘└────┘ └──────────┘ └────┘                     »\n",
       "ancilla_0 -> 4 ─────────────────────────────────────────────────────────»\n",
       "                                                                        »\n",
       "         c4: 1/═════════════════════════════════════════════════════════»\n",
       "                                                                        »\n",
       "«                                             ┌───┐                     »\n",
       "«     qb_0 -> 0 ───────────────────────────■──┤ X ├──■──────────────────»\n",
       "«                                        ┌─┴─┐└─┬─┘┌─┴─┐┌────────┐┌────┐»\n",
       "«     qb_2 -> 1 ──────────────────────■──┤ X ├──■──┤ X ├┤ Rz(-π) ├┤ √X ├»\n",
       "«               ┌────────────┐┌────┐┌─┴─┐└───┘     └───┘└────────┘└────┘»\n",
       "«     qb_1 -> 2 ┤ Rz(2.8455) ├┤ √X ├┤ X ├───────────────────────────────»\n",
       "«               └────────────┘└────┘└───┘                               »\n",
       "«      a_0 -> 3 ────────────────────────────────────────────────────────»\n",
       "«                                                                       »\n",
       "«ancilla_0 -> 4 ────────────────────────────────────────────────────────»\n",
       "«                                                                       »\n",
       "«         c4: 1/════════════════════════════════════════════════════════»\n",
       "«                                                                       »\n",
       "«                                                                            »\n",
       "«     qb_0 -> 0 ─────────────────────────────────────────────────────────────»\n",
       "«               ┌────────────┐┌────┐┌───┐┌────────┐┌────┐┌────────────┐┌────┐»\n",
       "«     qb_2 -> 1 ┤ Rz(1.4754) ├┤ √X ├┤ X ├┤ Rz(-π) ├┤ √X ├┤ Rz(2.6534) ├┤ √X ├»\n",
       "«               └────────────┘└────┘└─┬─┘└────────┘└────┘└────────────┘└────┘»\n",
       "«     qb_1 -> 2 ──────────────────────■──────────────────────────────────────»\n",
       "«                                                                            »\n",
       "«      a_0 -> 3 ─────────────────────────────────────────────────────────────»\n",
       "«                                                                            »\n",
       "«ancilla_0 -> 4 ─────────────────────────────────────────────────────────────»\n",
       "«                                                                            »\n",
       "«         c4: 1/═════════════════════════════════════════════════════════════»\n",
       "«                                                                            »\n",
       "«                                                                            »\n",
       "«     qb_0 -> 0 ──■──────────────────────────────────────────────────────────»\n",
       "«               ┌─┴─┐┌────────┐┌────┐┌───────────┐┌────┐┌───┐┌────────┐┌────┐»\n",
       "«     qb_2 -> 1 ┤ X ├┤ Rz(-π) ├┤ √X ├┤ Rz(2.627) ├┤ √X ├┤ X ├┤ Rz(-π) ├┤ √X ├»\n",
       "«               └───┘└────────┘└────┘└───────────┘└────┘└─┬─┘└────────┘└────┘»\n",
       "«     qb_1 -> 2 ──────────────────────────────────────────■──────────────────»\n",
       "«                                                                            »\n",
       "«      a_0 -> 3 ─────────────────────────────────────────────────────────────»\n",
       "«                                                                            »\n",
       "«ancilla_0 -> 4 ─────────────────────────────────────────────────────────────»\n",
       "«                                                                            »\n",
       "«         c4: 1/═════════════════════════════════════════════════════════════»\n",
       "«                                                                            »\n",
       "«                                                                              »\n",
       "«     qb_0 -> 0 ─────────────────────■─────────────────────────────────────────»\n",
       "«               ┌───────────┐┌────┐┌─┴─┐                                       »\n",
       "«     qb_2 -> 1 ┤ Rz(2.669) ├┤ √X ├┤ X ├──■────────────────────────────────────»\n",
       "«               └───────────┘└────┘└───┘  │                                    »\n",
       "«     qb_1 -> 2 ──────────────────────────┼────────────────────────────────────»\n",
       "«                                       ┌─┴─┐┌────┐┌──────────┐┌────┐┌────────┐»\n",
       "«      a_0 -> 3 ────────────────────────┤ X ├┤ √X ├┤ Rz(5π/7) ├┤ √X ├┤ Rz(-π) ├»\n",
       "«                                       └───┘└────┘└──────────┘└────┘└────────┘»\n",
       "«ancilla_0 -> 4 ───────────────────────────────────────────────────────────────»\n",
       "«                                                                              »\n",
       "«         c4: 1/═══════════════════════════════════════════════════════════════»\n",
       "«                                                                              »\n",
       "«                                                                          »\n",
       "«     qb_0 -> 0 ───────────────────────────────────────────────────────────»\n",
       "«                    ┌───┐     ┌───┐┌────────┐┌────┐┌──────────┐┌────┐┌───┐»\n",
       "«     qb_2 -> 1 ──■──┤ X ├──■──┤ X ├┤ Rz(-π) ├┤ √X ├┤ Rz(3π/7) ├┤ √X ├┤ X ├»\n",
       "«                 │  └─┬─┘  │  └─┬─┘└────────┘└────┘└──────────┘└────┘└─┬─┘»\n",
       "«     qb_1 -> 2 ──┼────┼────┼────┼──────────────────────────────────────■──»\n",
       "«               ┌─┴─┐  │  ┌─┴─┐  │                                         »\n",
       "«      a_0 -> 3 ┤ X ├──■──┤ X ├──■─────────────────────────────────────────»\n",
       "«               └───┘     └───┘                                            »\n",
       "«ancilla_0 -> 4 ───────────────────────────────────────────────────────────»\n",
       "«                                                                          »\n",
       "«         c4: 1/═══════════════════════════════════════════════════════════»\n",
       "«                                                                          »\n",
       "«                                                                             »\n",
       "«     qb_0 -> 0 ──────────────────────────────────────────────────────────────»\n",
       "«               ┌────┐┌──────────┐┌────┐┌────────┐┌───┐┌────┐┌─────────┐┌────┐»\n",
       "«     qb_2 -> 1 ┤ √X ├┤ Rz(3π/7) ├┤ √X ├┤ Rz(-π) ├┤ X ├┤ √X ├┤ Rz(π/7) ├┤ √X ├»\n",
       "«               └────┘└──────────┘└────┘└────────┘└─┬─┘└────┘└─────────┘└────┘»\n",
       "«     qb_1 -> 2 ────────────────────────────────────■─────────────────────────»\n",
       "«                                                                             »\n",
       "«      a_0 -> 3 ──────────────────────────────────────────────────────────────»\n",
       "«                                                                             »\n",
       "«ancilla_0 -> 4 ──────────────────────────────────────────────────────────────»\n",
       "«                                                                             »\n",
       "«         c4: 1/══════════════════════════════════════════════════════════════»\n",
       "«                                                                             »\n",
       "«                                                                     ░    \n",
       "«     qb_0 -> 0 ────────────■─────────────────────────────────────■───░────\n",
       "«               ┌────────┐┌─┴─┐┌────────┐┌────┐┌─────────┐┌────┐┌─┴─┐ ░ ┌─┐\n",
       "«     qb_2 -> 1 ┤ Rz(-π) ├┤ X ├┤ Rz(-π) ├┤ √X ├┤ Rz(π/7) ├┤ √X ├┤ X ├─░─┤M├\n",
       "«               └────────┘└───┘└────────┘└────┘└─────────┘└────┘└───┘ ░ └╥┘\n",
       "«     qb_1 -> 2 ──────────────────────────────────────────────────────░──╫─\n",
       "«                                                                     ░  ║ \n",
       "«      a_0 -> 3 ──────────────────────────────────────────────────────░──╫─\n",
       "«                                                                     ░  ║ \n",
       "«ancilla_0 -> 4 ─────────────────────────────────────────────────────────╫─\n",
       "«                                                                        ║ \n",
       "«         c4: 1/═════════════════════════════════════════════════════════╩═\n",
       "«                                                                        0 "
      ]
     },
     "execution_count": 29,
     "metadata": {},
     "output_type": "execute_result"
    }
   ],
   "source": [
    "transpile(tri_circ, backend=backend).draw()"
   ]
  },
  {
   "cell_type": "code",
   "execution_count": 33,
   "id": "67440df3",
   "metadata": {},
   "outputs": [
    {
     "data": {
      "text/plain": [
       "59"
      ]
     },
     "execution_count": 33,
     "metadata": {},
     "output_type": "execute_result"
    }
   ],
   "source": [
    "transpile(tri_circ, backend=backend).depth()"
   ]
  },
  {
   "cell_type": "code",
   "execution_count": 31,
   "id": "2070d24a",
   "metadata": {},
   "outputs": [
    {
     "data": {
      "image/png": "[encoded data removed]",
      "text/plain": [
       "<Figure size 500x500 with 1 Axes>"
      ]
     },
     "execution_count": 31,
     "metadata": {},
     "output_type": "execute_result"
    }
   ],
   "source": [
    "from qiskit.visualization import plot_gate_map\n",
    "plot_gate_map(backend, plot_directed=True)"
   ]
  },
  {
   "cell_type": "code",
   "execution_count": 78,
   "id": "a81d490f",
   "metadata": {},
   "outputs": [],
   "source": [
    "token = 'f6d369be71e5296d4290c379588aa8b5da8b2d4a413b76973b4f35345177d0a99a56e80c81623967f47049998bf7eb37331e5ff7dd8fda8ad62e56745a01c420'\n",
    "hub = \"ibm-q\"\n",
    "group = \"open\"data:image/png;base64,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\n",
    "project = \"main\"\n",
    "credentials = {'token': token, 'hub': hub, 'group': group, 'project': project}"
   ]
  },
  {
   "cell_type": "code",
   "execution_count": 83,
   "id": "53054960",
   "metadata": {
    "scrolled": true
   },
   "outputs": [
    {
     "name": "stdout",
     "output_type": "stream",
     "text": [
      "OPENQASM 2.0;\n",
      "include \"qelib1.inc\";\n",
      "qreg q[5];\n",
      "creg c13[1];\n",
      "rz(-pi) q[0];\n",
      "sx q[0];\n",
      "rz(2.681213181196415) q[0];\n",
      "sx q[0];\n",
      "rz(-pi) q[1];\n",
      "sx q[1];\n",
      "rz(2.1011825681744245) q[1];\n",
      "sx q[1];\n",
      "cx q[0],q[1];\n",
      "rz(-pi) q[1];\n",
      "sx q[1];\n",
      "rz(2.898289878244224) q[1];\n",
      "sx q[1];\n",
      "cx q[0],q[1];\n",
      "rz(-pi) q[2];\n",
      "sx q[2];\n",
      "rz(1.5128665332200883) q[2];\n",
      "sx q[2];\n",
      "cx q[1],q[2];\n",
      "rz(-pi) q[2];\n",
      "sx q[2];\n",
      "rz(2.6374639028242717) q[2];\n",
      "sx q[2];\n",
      "cx q[2],q[1];\n",
      "cx q[1],q[2];\n",
      "cx q[2],q[1];\n",
      "cx q[0],q[1];\n",
      "rz(-pi) q[1];\n",
      "sx q[1];\n",
      "rz(2.6047594573722392) q[1];\n",
      "sx q[1];\n",
      "cx q[2],q[1];\n",
      "rz(-pi) q[1];\n",
      "sx q[1];\n",
      "rz(2.66968806735278) q[1];\n",
      "sx q[1];\n",
      "cx q[0],q[1];\n",
      "rz(-pi) q[3];\n",
      "sx q[3];\n",
      "rz(5*pi/7) q[3];\n",
      "sx q[3];\n",
      "cx q[1],q[3];\n",
      "sx q[3];\n",
      "rz(5*pi/7) q[3];\n",
      "sx q[3];\n",
      "rz(-pi) q[3];\n",
      "cx q[1],q[3];\n",
      "cx q[3],q[1];\n",
      "cx q[1],q[3];\n",
      "cx q[3],q[1];\n",
      "rz(-pi) q[1];\n",
      "sx q[1];\n",
      "rz(3*pi/7) q[1];\n",
      "sx q[1];\n",
      "cx q[2],q[1];\n",
      "sx q[1];\n",
      "rz(3*pi/7) q[1];\n",
      "sx q[1];\n",
      "rz(-pi) q[1];\n",
      "cx q[2],q[1];\n",
      "sx q[1];\n",
      "rz(pi/7) q[1];\n",
      "sx q[1];\n",
      "rz(-pi) q[1];\n",
      "cx q[0],q[1];\n",
      "rz(-pi) q[1];\n",
      "sx q[1];\n",
      "rz(pi/7) q[1];\n",
      "sx q[1];\n",
      "cx q[0],q[1];\n",
      "barrier q[3],q[2],q[0],q[1];\n",
      "measure q[1] -> c13[0];\n",
      "\n"
     ]
    }
   ],
   "source": [
    "qasm_string = transpile(tri_circ, backend=backend).qasm()\n",
    "print(qasm_string)"
   ]
  },
  {
   "cell_type": "code",
   "execution_count": 80,
   "id": "0792760e",
   "metadata": {},
   "outputs": [
    {
     "name": "stdout",
     "output_type": "stream",
     "text": [
      "\n",
      "Authentication URL:\n",
      "\n",
      "https://id.q-ctrl.com/auth/realms/q-ctrl/protocol/openid-connect/auth?response_type=code&client_id=cli-python&redirect_uri=http%3A%2F%2Flocalhost%3A8000&scope=openid+profile+email+offline_access&state=GqXjjWUolHql8QmZS4kXh9CVjmCIZO\n",
      "\n",
      "The URL above should be automatically opened in your default web browser.\n",
      "(Please copy and paste in case it doesn't open automatically)\n",
      "\n",
      "Authenticate your credentials in your browser...\n",
      "\n",
      "Finalizing authentication...\n",
      "Successful authentication!\n",
      "ibm_nairobi\n",
      "ibmq_belem\n",
      "ibmq_jakarta\n",
      "ibm_lagos\n",
      "ibm_perth\n",
      "ibmq_lima\n",
      "ibmq_manila\n",
      "ibmq_quito\n"
     ]
    }
   ],
   "source": [
    "supported_devices = fireopal.show_supported_devices(credentials=credentials)[\n",
    "    \"supported_devices\"\n",
    "]\n",
    "for name in supported_devices:\n",
    "    print(name)"
   ]
  },
  {
   "cell_type": "code",
   "execution_count": 84,
   "id": "0b27e267",
   "metadata": {},
   "outputs": [],
   "source": [
    "circuit_errors = fireopal.validate(\n",
    "    circuits=[qasm_string], credentials=credentials, backend_name=backend_name\n",
    ")"
   ]
  },
  {
   "cell_type": "code",
   "execution_count": 85,
   "id": "7e477116",
   "metadata": {},
   "outputs": [
    {
     "name": "stderr",
     "output_type": "stream",
     "text": [
      "\n",
      "KeyboardInterrupt\n",
      "\n"
     ]
    }
   ],
   "source": [
    "# Could run this but currently on real qubit devices the waiting time is 2 days. \n",
    "shot_count = 1024\n",
    "\n",
    "fire_opal_results = fireopal.execute(\n",
    "    circuits=[qasm_string],\n",
    "    shot_count=shot_count,\n",
    "    credentials=credentials,\n",
    "    backend_name=backend_name)"
   ]
  },
  {
   "cell_type": "markdown",
   "id": "543030d7",
   "metadata": {
    "slideshow": {
     "slide_type": "slide"
    }
   },
   "source": [
    "## 5. Benchmarking\n",
    "* Do you estimate this use case will benefit from NISQ devices or do we need Fault Tolerant Quantum computers?\n",
    "* What metric would be more appropiate to compare the performance of your Quantum Monte Carlo solver vs the current classical methods?\n",
    "* <font color=red> (Optional. Advanced) Assume you are a quant at a financial firm. You need to apply Monte Carlo simulation to price (i.e. the expectation of the total assets value) of a portfolio of fixed-income assets (e.g. 10k assets). An accuracy of the order of epsilon = 10e-6 is needed. Notice that the underlying uncertainty of fixed-income assets stems from interest rate and they do not have to follow a GBM like model. For simplicity, take into account that interest rates are only modeled up to one period (T=1), resulting on one-dimensional distribution. There are other models typically used to model the paths of interest rates. Make a rough but reasonable estimation of the quantum hardware resources needed to implement quantum Monte Carlo simulation for this set up. </font>\n",
    "\n",
    "\n",
    "Cite your references."
   ]
  },
  {
   "cell_type": "markdown",
   "id": "a2f2e8a5",
   "metadata": {
    "slideshow": {
     "slide_type": "fragment"
    }
   },
   "source": [
    "A1: Yes, Fourier QMCI will benefit from NISQ devices for several reasons [Ref 1].\n",
    "\n",
    "1. **It does not rely on quantum phase estimation (QPE).** QPE requires fault-tolerant quantum computing due to its need for a large number of qubits and quantum gates for high precision, as well as high-fidelity basic operations to avoid the fast accumulation of errors from multiple control-unitaries.\n",
    "\n",
    "2. **It simplifies the arithmetic on the quantum side compared to previous QMCI approaches.** By considering the function $f(x)$ on the finite support of $p(x)$ and defining a corresponding periodic function $\\texttt{f(x)}$, the Fourier series of the new periodic function $\\texttt{f(x)}$ can be computed classically. This not only avoids complex quantum arithmetic but also achieves better accuracy than linear approximation methods [Ref 2, Ref 3]. The quantum arithmetric is shifted to classical side, where better precision can be achieved. Moreover, the classical arithmetic complexity does not depend on the number of sample, but only on the step used in the integration.\n",
    "\n",
    "3. **Fourier QMCI will be valuable during the transitional period from NISQ to Full-Scale Fault-Tolerant (FSFT) quantum computing.** The transition from NISQ to FSFT will not be sharp. As qubit numbers increase, it becomes reasonable to consider quantum algorithms with low-depth circuits, such as Quantum Amplitude Estimation for trigonometric functions used in Fourier QMCI, provided they can adequately manage noise. Eliminating the need for depth-consuming arithmetic operations is a crucial step in this direction.\n",
    "\n",
    "4. **Fourier QMCI might still be useful beyond the NISQ era,** It depends on how well the circuit level noise is mitigated in the FT era. The elementary gate sets will tend to have better fidelity (noise needs to be well below the threshold to get to a $10^{-10}$ logical error rate with $~1000$ data qubits), the Fourier QMCI executed on these device can also benefit from these improvement. When using all the ancilla for error correction to the MC computation, we have a much larger computing platform than the logical-qubit platform.\n",
    "\n",
    "A2: One metric to compare is the **mean square error (MSE) given $N$ samples**. Classical Monte Carlo integration has MSE of $\\Theta (N^{-1})$, Fourier QMCI is $\\Theta (N^{-2})$ [Ref 1, Ref 4]. This advantage in query complexity was shown. However, other factors need to be taken into account as well in order to evaluate whether we can benefit from QMCI. \n",
    "<!-- - The overhead of the query complexity.  -->\n",
    "- The complexity per query, although the Fourier QMCI has less query complexity, per query it might be more difficult than the classical MC, because the state perparation of $p(x)$ could be hard. There may be errors induced by the gate sets\n",
    "- Classical post-processing of the quantum algorithm. The quantum MCI shifts the complicated arithmetic to the classical side, which involves the calculations of Fourier coefficient. This may not be an easy task for non-ideal functions (In [Ref 1], $f(x)$ is assumed to be \"continuous in value and first derivative, and has second and third derivatives that are piecewise-continuous and bounded.\"), where more Fourier coefficients have to be involved in the series approximation.\n",
    "<!-- [Ref 1] claims a cubic decay ($n^{-3}$) of the Fourier coefficients. However, for a general $f(x)$, the coefficients only decays linearly ($n^{-1}$). And to calculate each coefficient, the numerical integral with $m$ points in the interval will have a complexity of $O(m\\log(m))$, using the Clenshaw-Curtis method [Ref 5]. -->\n",
    "\n",
    "[Ref 1] Herbert, S. (2022). Quantum Monte Carlo integration: the full advantage in minimal circuit depth. Quantum, 6, 823.  \n",
    "[Ref 2] Woerner, S., & Egger, D. J. (2019). Quantum risk analysis. npj Quantum Information, 5(1), 15.  \n",
    "[Ref 3] Stamatopoulos, N., Egger, D. J., Sun, Y., Zoufal, C., Iten, R., Shen, N., & Woerner, S. (2020). Option pricing using quantum computers. Quantum, 4, 291.  \n",
    "[Ref 4] Intallura, P., Korpas, G., Chakraborty, S., Kungurtsev, V., & Marecek, J. (2023). A Survey of Quantum Alternatives to Randomized Algorithms: Monte Carlo Integration and Beyond. arXiv preprint arXiv:2303.04945.\n",
    "[Ref 5] Clenshaw, C. W., & Curtis, A. R. (1960). A method for numerical integration on an automatic computer. Numerische Mathematik, 2, 197-205.\n",
    "    "
   ]
  },
  {
   "cell_type": "markdown",
   "id": "0057e918",
   "metadata": {
    "slideshow": {
     "slide_type": "slide"
    }
   },
   "source": [
    "## 6. Pitch your quantum strategy to a client: a bank\n",
    "Imagine you are part of the Quantum team at Moody's. You are meeting the CIO of an important bank in the US, and you need to convince him/her in 5 minutes about why they should start investing in quantum computing today, and define the steps of a high level roadmap they would need to follow to get quantum ready. You can use the Quantum Monte Carlo use case as a proof of concept to support your pitch. \n",
    "\n",
    "You may use up to 3 slides, including roadmap, PoC results and executive summary on why to invest in quantum today.\n",
    "\n",
    "\n",
    "<div class=\"alert alert-block alert-warning\">\n",
    "<b>Hints:</b> \n",
    "    \n",
    "- Research what is an executive summary, and an elevator pitch, and try to follow some of the ideas of these communication tools.\n",
    "- Think about the person you are presenting to. Are they technical people? What is important to them? Build a empathy map to help you build the right message.\n",
    "\n",
    "</div>"
   ]
  },
  {
   "cell_type": "markdown",
   "id": "9b594bec",
   "metadata": {
    "slideshow": {
     "slide_type": "fragment"
    }
   },
   "source": [
    "<img src=\"files/empathymap.png\"  width=\"200\">"
   ]
  },
  {
   "cell_type": "code",
   "execution_count": 5,
   "id": "23b2fb94",
   "metadata": {
    "slideshow": {
     "slide_type": "fragment"
    }
   },
   "outputs": [],
   "source": [
    "# Build your presentation and rehearse your pitch!"
   ]
  },
  {
   "cell_type": "markdown",
   "id": "5b23c2b7",
   "metadata": {
    "slideshow": {
     "slide_type": "slide"
    }
   },
   "source": [
    "# This is the end of the challenge. Good luck..."
   ]
  },
  {
   "cell_type": "markdown",
   "id": "aaf0d3ef",
   "metadata": {
    "slideshow": {
     "slide_type": "fragment"
    }
   },
   "source": [
    "<img src=\"files/keepcalm.png\"  width=\"200\">"
   ]
  }
 ],
 "metadata": {
  "kernelspec": {
   "display_name": "Python 3 (ipykernel)",
   "language": "python",
   "name": "python3"
  },
  "language_info": {
   "codemirror_mode": {
    "name": "ipython",
    "version": 3
   },
   "file_extension": ".py",
   "mimetype": "text/x-python",
   "name": "python",
   "nbconvert_exporter": "python",
   "pygments_lexer": "ipython3",
   "version": "3.8.16"
  }
 },
 "nbformat": 4,
 "nbformat_minor": 5
}
